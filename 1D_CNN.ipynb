{
  "cells": [
    {
      "cell_type": "code",
      "execution_count": 1,
      "metadata": {
        "id": "0ak7KSEDvWI_"
      },
      "outputs": [],
      "source": [
        "import tensorflow as tf\n",
        "from keras.models import Sequential\n",
        "from keras.layers import Dense, LSTM, Dropout, Flatten, BatchNormalization, Activation\n",
        "from keras.layers import Conv2D, MaxPooling2D, AveragePooling2D, GlobalMaxPooling2D, GlobalAveragePooling2D\n",
        "from keras.layers import Conv1D, MaxPooling1D, AveragePooling1D, GlobalMaxPooling1D, GlobalAveragePooling1D\n",
        "from keras.optimizers import Adam, SGD\n",
        "from keras.callbacks import EarlyStopping, ModelCheckpoint\n",
        "import keras.backend as K\n",
        "import sklearn.model_selection as skm\n",
        "from sklearn.metrics import classification_report\n",
        "import pandas as pd\n",
        "import numpy as np\n",
        "import sklearn.preprocessing as skp\n",
        "import librosa\n",
        "import import_ipynb\n",
        "import utils\n",
        "from tqdm import tqdm\n",
        "import matplotlib.pyplot as plt\n",
        "%matplotlib inline"
      ]
    },
    {
      "cell_type": "code",
      "execution_count": 2,
      "metadata": {
        "id": "-XONQOnjwtku"
      },
      "outputs": [],
      "source": [
        "GTZAN_DIR = '/Users/nkkaushal/Documents/Fall22/ECS_271/Project/dataset/GTZAN_data/'\n",
        "features = pd.read_csv(GTZAN_DIR+\"features_30_sec.csv\")"
      ]
    },
    {
      "cell_type": "code",
      "execution_count": 3,
      "metadata": {
        "id": "aoBYsZzqxTrp"
      },
      "outputs": [],
      "source": [
        "df = features[['filename','label']].copy()\n",
        "df['MFCCs'] = None\n"
      ]
    },
    {
      "cell_type": "code",
      "execution_count": 4,
      "metadata": {
        "colab": {
          "base_uri": "https://localhost:8080/",
          "height": 206
        },
        "id": "UfFxp_rqIgNm",
        "outputId": "713e1175-a3d2-450a-f3ec-532b3d208aa7"
      },
      "outputs": [
        {
          "data": {
            "text/html": [
              "<div>\n",
              "<style scoped>\n",
              "    .dataframe tbody tr th:only-of-type {\n",
              "        vertical-align: middle;\n",
              "    }\n",
              "\n",
              "    .dataframe tbody tr th {\n",
              "        vertical-align: top;\n",
              "    }\n",
              "\n",
              "    .dataframe thead th {\n",
              "        text-align: right;\n",
              "    }\n",
              "</style>\n",
              "<table border=\"1\" class=\"dataframe\">\n",
              "  <thead>\n",
              "    <tr style=\"text-align: right;\">\n",
              "      <th></th>\n",
              "      <th>filename</th>\n",
              "      <th>label</th>\n",
              "      <th>MFCCs</th>\n",
              "    </tr>\n",
              "  </thead>\n",
              "  <tbody>\n",
              "    <tr>\n",
              "      <th>0</th>\n",
              "      <td>blues.00000.wav</td>\n",
              "      <td>blues</td>\n",
              "      <td>None</td>\n",
              "    </tr>\n",
              "    <tr>\n",
              "      <th>1</th>\n",
              "      <td>blues.00001.wav</td>\n",
              "      <td>blues</td>\n",
              "      <td>None</td>\n",
              "    </tr>\n",
              "    <tr>\n",
              "      <th>2</th>\n",
              "      <td>blues.00002.wav</td>\n",
              "      <td>blues</td>\n",
              "      <td>None</td>\n",
              "    </tr>\n",
              "    <tr>\n",
              "      <th>3</th>\n",
              "      <td>blues.00003.wav</td>\n",
              "      <td>blues</td>\n",
              "      <td>None</td>\n",
              "    </tr>\n",
              "    <tr>\n",
              "      <th>4</th>\n",
              "      <td>blues.00004.wav</td>\n",
              "      <td>blues</td>\n",
              "      <td>None</td>\n",
              "    </tr>\n",
              "  </tbody>\n",
              "</table>\n",
              "</div>"
            ],
            "text/plain": [
              "          filename  label MFCCs\n",
              "0  blues.00000.wav  blues  None\n",
              "1  blues.00001.wav  blues  None\n",
              "2  blues.00002.wav  blues  None\n",
              "3  blues.00003.wav  blues  None\n",
              "4  blues.00004.wav  blues  None"
            ]
          },
          "execution_count": 4,
          "metadata": {},
          "output_type": "execute_result"
        }
      ],
      "source": [
        "df.head()"
      ]
    },
    {
      "cell_type": "code",
      "execution_count": 6,
      "metadata": {
        "colab": {
          "base_uri": "https://localhost:8080/"
        },
        "id": "486DMU5WC_Mc",
        "outputId": "2a71e930-13c0-4df4-a0df-54d9db66ca48"
      },
      "outputs": [
        {
          "name": "stderr",
          "output_type": "stream",
          "text": [
            " 55%|█████▌    | 553/1000 [00:08<00:05, 82.04it/s]/Users/nkkaushal/Documents/Fall22/ECS_271/Project/venv/lib/python3.10/site-packages/librosa/util/decorators.py:88: UserWarning: PySoundFile failed. Trying audioread instead.\n",
            "  return f(*args, **kwargs)\n",
            " 56%|█████▌    | 562/1000 [00:08<00:05, 77.87it/s]"
          ]
        },
        {
          "name": "stdout",
          "output_type": "stream",
          "text": [
            "554: NoBackendError()\n"
          ]
        },
        {
          "name": "stderr",
          "output_type": "stream",
          "text": [
            "100%|██████████| 1000/1000 [00:14<00:00, 67.72it/s]\n"
          ]
        }
      ],
      "source": [
        "for i in tqdm(range(features.shape[0])):\n",
        "  \n",
        "  try:\n",
        "    track_id = int(features['filename'][i].split('.')[1])\n",
        "          \n",
        "    filename = utils.get_audio_path(GTZAN_DIR, track_id, features['label'][i])\n",
        "\n",
        "    x, sr = librosa.load(filename, mono=True, duration = 15)\n",
        "\n",
        "    stft = np.abs(librosa.stft(x, n_fft=2048, hop_length=512))\n",
        "    mel = librosa.feature.melspectrogram(sr=sr, S=stft**2)\n",
        "    del stft\n",
        "    mfcc = librosa.feature.mfcc(S=librosa.power_to_db(mel), n_mfcc=30)\n",
        "\n",
        "    df.at[i, 'MFCCs'] = mfcc\n",
        "\n",
        "  except Exception as e:\n",
        "        print('{}: {}'.format(i, repr(e)))\n"
      ]
    },
    {
      "cell_type": "code",
      "execution_count": 25,
      "metadata": {},
      "outputs": [],
      "source": [
        "df = df.dropna()"
      ]
    },
    {
      "cell_type": "code",
      "execution_count": 33,
      "metadata": {
        "id": "2PBk16S5vRQs"
      },
      "outputs": [
        {
          "name": "stderr",
          "output_type": "stream",
          "text": [
            "/var/folders/v3/49xwmkw17sjdq3cp1fp4wptr0000gn/T/ipykernel_21972/3696471984.py:1: FutureWarning: The behavior of `series[i:j]` with an integer-dtype index is deprecated. In a future version, this will be treated as *label-based* indexing, consistent with e.g. `series[i]` lookups. To retain the old behavior, use `series.iloc[i:j]`. To get the future behavior, use `series.loc[i:j]`.\n",
            "  X = df['MFCCs'][:1000]\n",
            "/var/folders/v3/49xwmkw17sjdq3cp1fp4wptr0000gn/T/ipykernel_21972/3696471984.py:2: FutureWarning: The behavior of `series[i:j]` with an integer-dtype index is deprecated. In a future version, this will be treated as *label-based* indexing, consistent with e.g. `series[i]` lookups. To retain the old behavior, use `series.iloc[i:j]`. To get the future behavior, use `series.loc[i:j]`.\n",
            "  Y = df['label'][:1000]\n"
          ]
        }
      ],
      "source": [
        "X = df['MFCCs'][:1000]\n",
        "Y = df['label'][:1000]\n",
        "scaler = skp.StandardScaler(copy=False)\n",
        "genre_list = Y.unique()\n",
        "genre_dict = {}\n",
        "for i in range(genre_list.shape[0]):\n",
        "    genre_dict[genre_list[i]] = i"
      ]
    },
    {
      "cell_type": "code",
      "execution_count": 34,
      "metadata": {
        "id": "xt-GhWaEbhfW"
      },
      "outputs": [],
      "source": [
        "def one_hot(Y_genre_strings):\n",
        "    y_one_hot = np.zeros((Y_genre_strings.shape[0], len(genre_list)))\n",
        "    for i, genre_string in enumerate(Y_genre_strings):\n",
        "        index = genre_dict[genre_string]\n",
        "        y_one_hot[i, index] = 1\n",
        "    return y_one_hot"
      ]
    },
    {
      "cell_type": "code",
      "execution_count": 35,
      "metadata": {
        "id": "M-1a2YRVNS9i"
      },
      "outputs": [],
      "source": [
        "X = X.apply(lambda x : x.reshape(x.shape[1], x.shape[0]))"
      ]
    },
    {
      "cell_type": "code",
      "execution_count": 36,
      "metadata": {
        "id": "r0AXctLEGBX6"
      },
      "outputs": [],
      "source": [
        "X_train, X_test, Y_train, Y_test = skm.train_test_split(X, Y, test_size=0.3, random_state=42)"
      ]
    },
    {
      "cell_type": "code",
      "execution_count": 37,
      "metadata": {
        "id": "7jn8TuGZR5FC"
      },
      "outputs": [],
      "source": [
        "X_train_1d = np.stack(X_train, axis = 0)\n",
        "X_test_1d = np.stack(X_test, axis = 0)\n",
        "y_train_1d = one_hot(Y_train)\n",
        "y_test_1d = one_hot(Y_test)"
      ]
    },
    {
      "cell_type": "code",
      "execution_count": 39,
      "metadata": {
        "id": "Ve-SfQ7Kq7L_"
      },
      "outputs": [],
      "source": [
        "SEQUENCE_MODEL = 'cnn_lstm_sequence.h5'\n",
        "EPOCHS = 100\n",
        "LR = 0.00025\n",
        "BATCH_SIZE = 16\n",
        "FILTER = 32\n",
        "KERNEL_SIZE = 4\n",
        "INPUT_SHAPE = (X_train_1d.shape[1], X_train_1d.shape[2]) # input shape of 1d ccn = (# samples, # timesteps, # features)\n",
        "POOL_SIZE = 2\n",
        "CONV_DROPOUT = 0.25\n",
        "FC_DROPOUT = 0.5"
      ]
    },
    {
      "cell_type": "code",
      "execution_count": 40,
      "metadata": {
        "colab": {
          "base_uri": "https://localhost:8080/"
        },
        "id": "275xuEhaq7qw",
        "outputId": "27272527-b2c2-4070-d117-8c00aa62e2d1"
      },
      "outputs": [
        {
          "name": "stdout",
          "output_type": "stream",
          "text": [
            "Metal device set to: Apple M1 Pro\n",
            "\n",
            "systemMemory: 16.00 GB\n",
            "maxCacheSize: 5.33 GB\n",
            "\n"
          ]
        },
        {
          "name": "stderr",
          "output_type": "stream",
          "text": [
            "2022-11-30 04:31:12.598414: I tensorflow/core/common_runtime/pluggable_device/pluggable_device_factory.cc:306] Could not identify NUMA node of platform GPU ID 0, defaulting to 0. Your kernel may not have been built with NUMA support.\n",
            "2022-11-30 04:31:12.598967: I tensorflow/core/common_runtime/pluggable_device/pluggable_device_factory.cc:272] Created TensorFlow device (/job:localhost/replica:0/task:0/device:GPU:0 with 0 MB memory) -> physical PluggableDevice (device: 0, name: METAL, pci bus id: <undefined>)\n"
          ]
        },
        {
          "name": "stdout",
          "output_type": "stream",
          "text": [
            "Model: \"sequential\"\n",
            "_________________________________________________________________\n",
            " Layer (type)                Output Shape              Param #   \n",
            "=================================================================\n",
            " conv1d (Conv1D)             (None, 646, 32)           3872      \n",
            "                                                                 \n",
            " batch_normalization (BatchN  (None, 646, 32)          128       \n",
            " ormalization)                                                   \n",
            "                                                                 \n",
            " activation (Activation)     (None, 646, 32)           0         \n",
            "                                                                 \n",
            " dropout (Dropout)           (None, 646, 32)           0         \n",
            "                                                                 \n",
            " average_pooling1d (AverageP  (None, 323, 32)          0         \n",
            " ooling1D)                                                       \n",
            "                                                                 \n",
            " conv1d_1 (Conv1D)           (None, 323, 32)           4128      \n",
            "                                                                 \n",
            " batch_normalization_1 (Batc  (None, 323, 32)          128       \n",
            " hNormalization)                                                 \n",
            "                                                                 \n",
            " activation_1 (Activation)   (None, 323, 32)           0         \n",
            "                                                                 \n",
            " dropout_1 (Dropout)         (None, 323, 32)           0         \n",
            "                                                                 \n",
            " average_pooling1d_1 (Averag  (None, 161, 32)          0         \n",
            " ePooling1D)                                                     \n",
            "                                                                 \n",
            " conv1d_2 (Conv1D)           (None, 161, 32)           4128      \n",
            "                                                                 \n",
            " batch_normalization_2 (Batc  (None, 161, 32)          128       \n",
            " hNormalization)                                                 \n",
            "                                                                 \n",
            " activation_2 (Activation)   (None, 161, 32)           0         \n",
            "                                                                 \n",
            " dropout_2 (Dropout)         (None, 161, 32)           0         \n",
            "                                                                 \n",
            " average_pooling1d_2 (Averag  (None, 80, 32)           0         \n",
            " ePooling1D)                                                     \n",
            "                                                                 \n",
            " flatten (Flatten)           (None, 2560)              0         \n",
            "                                                                 \n",
            " dense (Dense)               (None, 50)                128050    \n",
            "                                                                 \n",
            " dropout_3 (Dropout)         (None, 50)                0         \n",
            "                                                                 \n",
            " dense_1 (Dense)             (None, 10)                510       \n",
            "                                                                 \n",
            "=================================================================\n",
            "Total params: 141,072\n",
            "Trainable params: 140,880\n",
            "Non-trainable params: 192\n",
            "_________________________________________________________________\n"
          ]
        },
        {
          "name": "stderr",
          "output_type": "stream",
          "text": [
            "/Users/nkkaushal/Documents/Fall22/ECS_271/Project/venv/lib/python3.10/site-packages/keras/optimizers/optimizer_v2/adam.py:114: UserWarning: The `lr` argument is deprecated, use `learning_rate` instead.\n",
            "  super().__init__(name, **kwargs)\n"
          ]
        }
      ],
      "source": [
        "model = Sequential()\n",
        "\n",
        "model.add(Conv1D(FILTER, KERNEL_SIZE, input_shape = INPUT_SHAPE, padding = 'same'))\n",
        "model.add(BatchNormalization())\n",
        "model.add(Activation('relu'))\n",
        "model.add(Dropout(CONV_DROPOUT))\n",
        "model.add(AveragePooling1D(pool_size = POOL_SIZE))\n",
        "\n",
        "model.add(Conv1D(FILTER, KERNEL_SIZE, padding = 'same'))\n",
        "model.add(BatchNormalization())\n",
        "model.add(Activation('relu'))\n",
        "model.add(Dropout(CONV_DROPOUT))\n",
        "model.add(AveragePooling1D(pool_size = POOL_SIZE))\n",
        "\n",
        "model.add(Conv1D(FILTER, KERNEL_SIZE, padding = 'same'))\n",
        "model.add(BatchNormalization())\n",
        "model.add(Activation('relu'))\n",
        "model.add(Dropout(CONV_DROPOUT))\n",
        "model.add(AveragePooling1D(pool_size = POOL_SIZE))\n",
        "\n",
        "model.add(Flatten())\n",
        "\n",
        "model.add(Dense(50, activation = 'relu'))\n",
        "model.add(Dropout(FC_DROPOUT))\n",
        "model.add(Dense(10, activation = 'softmax'))\n",
        "\n",
        "opt = Adam(lr = LR)\n",
        "model.compile(loss = 'categorical_crossentropy', optimizer = opt, metrics = ['accuracy'])\n",
        "model.summary()"
      ]
    },
    {
      "cell_type": "code",
      "execution_count": 41,
      "metadata": {
        "colab": {
          "base_uri": "https://localhost:8080/"
        },
        "id": "fHLOtTVGq9wn",
        "outputId": "56142ea2-5ef1-404d-b9b4-a1dc47f159a9"
      },
      "outputs": [
        {
          "name": "stdout",
          "output_type": "stream",
          "text": [
            "Epoch 1/100\n"
          ]
        },
        {
          "name": "stderr",
          "output_type": "stream",
          "text": [
            "2022-11-30 04:31:18.500864: W tensorflow/core/platform/profile_utils/cpu_utils.cc:128] Failed to get CPU frequency: 0 Hz\n",
            "2022-11-30 04:31:19.054680: I tensorflow/core/grappler/optimizers/custom_graph_optimizer_registry.cc:114] Plugin optimizer for device_type GPU is enabled.\n",
            "2022-11-30 04:31:22.341718: I tensorflow/core/grappler/optimizers/custom_graph_optimizer_registry.cc:114] Plugin optimizer for device_type GPU is enabled.\n"
          ]
        },
        {
          "name": "stdout",
          "output_type": "stream",
          "text": [
            "22/22 - 4s - loss: 2.4873 - accuracy: 0.1144 - val_loss: 2.2509 - val_accuracy: 0.1233 - 4s/epoch - 189ms/step\n",
            "Epoch 2/100\n",
            "22/22 - 1s - loss: 2.2199 - accuracy: 0.1874 - val_loss: 2.1973 - val_accuracy: 0.1567 - 573ms/epoch - 26ms/step\n",
            "Epoch 3/100\n",
            "22/22 - 1s - loss: 2.1475 - accuracy: 0.2389 - val_loss: 2.1367 - val_accuracy: 0.2533 - 598ms/epoch - 27ms/step\n",
            "Epoch 4/100\n",
            "22/22 - 1s - loss: 2.0803 - accuracy: 0.2661 - val_loss: 2.0720 - val_accuracy: 0.2333 - 584ms/epoch - 27ms/step\n",
            "Epoch 5/100\n",
            "22/22 - 1s - loss: 2.0040 - accuracy: 0.3076 - val_loss: 2.0425 - val_accuracy: 0.2300 - 617ms/epoch - 28ms/step\n",
            "Epoch 6/100\n",
            "22/22 - 1s - loss: 1.9263 - accuracy: 0.3090 - val_loss: 1.9491 - val_accuracy: 0.2600 - 565ms/epoch - 26ms/step\n",
            "Epoch 7/100\n",
            "22/22 - 1s - loss: 1.8149 - accuracy: 0.3691 - val_loss: 1.9190 - val_accuracy: 0.2533 - 593ms/epoch - 27ms/step\n",
            "Epoch 8/100\n",
            "22/22 - 1s - loss: 1.7995 - accuracy: 0.3376 - val_loss: 1.8516 - val_accuracy: 0.2533 - 640ms/epoch - 29ms/step\n",
            "Epoch 9/100\n",
            "22/22 - 1s - loss: 1.7398 - accuracy: 0.3677 - val_loss: 1.7999 - val_accuracy: 0.3133 - 590ms/epoch - 27ms/step\n",
            "Epoch 10/100\n",
            "22/22 - 1s - loss: 1.6799 - accuracy: 0.4034 - val_loss: 1.7763 - val_accuracy: 0.3300 - 562ms/epoch - 26ms/step\n",
            "Epoch 11/100\n",
            "22/22 - 1s - loss: 1.6207 - accuracy: 0.3977 - val_loss: 1.7290 - val_accuracy: 0.3233 - 588ms/epoch - 27ms/step\n",
            "Epoch 12/100\n",
            "22/22 - 1s - loss: 1.5746 - accuracy: 0.4206 - val_loss: 1.6787 - val_accuracy: 0.3533 - 570ms/epoch - 26ms/step\n",
            "Epoch 13/100\n",
            "22/22 - 1s - loss: 1.5421 - accuracy: 0.4435 - val_loss: 1.6413 - val_accuracy: 0.3800 - 574ms/epoch - 26ms/step\n",
            "Epoch 14/100\n",
            "22/22 - 1s - loss: 1.4965 - accuracy: 0.4707 - val_loss: 1.6375 - val_accuracy: 0.3733 - 575ms/epoch - 26ms/step\n",
            "Epoch 15/100\n",
            "22/22 - 1s - loss: 1.4564 - accuracy: 0.4735 - val_loss: 1.5705 - val_accuracy: 0.4033 - 568ms/epoch - 26ms/step\n",
            "Epoch 16/100\n",
            "22/22 - 1s - loss: 1.4279 - accuracy: 0.4893 - val_loss: 1.5484 - val_accuracy: 0.4333 - 562ms/epoch - 26ms/step\n",
            "Epoch 17/100\n",
            "22/22 - 1s - loss: 1.4074 - accuracy: 0.4907 - val_loss: 1.4745 - val_accuracy: 0.4800 - 558ms/epoch - 25ms/step\n",
            "Epoch 18/100\n",
            "22/22 - 1s - loss: 1.3541 - accuracy: 0.5351 - val_loss: 1.4473 - val_accuracy: 0.5033 - 558ms/epoch - 25ms/step\n",
            "Epoch 19/100\n",
            "22/22 - 1s - loss: 1.3408 - accuracy: 0.5265 - val_loss: 1.4239 - val_accuracy: 0.5367 - 554ms/epoch - 25ms/step\n",
            "Epoch 20/100\n",
            "22/22 - 1s - loss: 1.2948 - accuracy: 0.5608 - val_loss: 1.4045 - val_accuracy: 0.5233 - 556ms/epoch - 25ms/step\n",
            "Epoch 21/100\n",
            "22/22 - 1s - loss: 1.2870 - accuracy: 0.5565 - val_loss: 1.3960 - val_accuracy: 0.5367 - 556ms/epoch - 25ms/step\n",
            "Epoch 22/100\n",
            "22/22 - 1s - loss: 1.2440 - accuracy: 0.5565 - val_loss: 1.3532 - val_accuracy: 0.5400 - 555ms/epoch - 25ms/step\n",
            "Epoch 23/100\n",
            "22/22 - 1s - loss: 1.1996 - accuracy: 0.5837 - val_loss: 1.3137 - val_accuracy: 0.5600 - 555ms/epoch - 25ms/step\n",
            "Epoch 24/100\n",
            "22/22 - 1s - loss: 1.1627 - accuracy: 0.5866 - val_loss: 1.3388 - val_accuracy: 0.5367 - 559ms/epoch - 25ms/step\n",
            "Epoch 25/100\n",
            "22/22 - 1s - loss: 1.1926 - accuracy: 0.5851 - val_loss: 1.3124 - val_accuracy: 0.5367 - 560ms/epoch - 25ms/step\n",
            "Epoch 26/100\n",
            "22/22 - 1s - loss: 1.1088 - accuracy: 0.6137 - val_loss: 1.3033 - val_accuracy: 0.5533 - 553ms/epoch - 25ms/step\n",
            "Epoch 27/100\n",
            "22/22 - 1s - loss: 1.0951 - accuracy: 0.6180 - val_loss: 1.3216 - val_accuracy: 0.5367 - 557ms/epoch - 25ms/step\n",
            "Epoch 28/100\n",
            "22/22 - 1s - loss: 1.0854 - accuracy: 0.6094 - val_loss: 1.2536 - val_accuracy: 0.5900 - 559ms/epoch - 25ms/step\n",
            "Epoch 29/100\n",
            "22/22 - 1s - loss: 1.1097 - accuracy: 0.6266 - val_loss: 1.3002 - val_accuracy: 0.5533 - 552ms/epoch - 25ms/step\n",
            "Epoch 30/100\n",
            "22/22 - 1s - loss: 1.0289 - accuracy: 0.6381 - val_loss: 1.3161 - val_accuracy: 0.5367 - 555ms/epoch - 25ms/step\n",
            "Epoch 31/100\n",
            "22/22 - 1s - loss: 1.0173 - accuracy: 0.6438 - val_loss: 1.2393 - val_accuracy: 0.5633 - 558ms/epoch - 25ms/step\n",
            "Epoch 32/100\n",
            "22/22 - 1s - loss: 1.0156 - accuracy: 0.6567 - val_loss: 1.2759 - val_accuracy: 0.5500 - 590ms/epoch - 27ms/step\n",
            "Epoch 33/100\n",
            "22/22 - 1s - loss: 0.9989 - accuracy: 0.6595 - val_loss: 1.2738 - val_accuracy: 0.5500 - 560ms/epoch - 25ms/step\n",
            "Epoch 34/100\n",
            "22/22 - 1s - loss: 0.9992 - accuracy: 0.6667 - val_loss: 1.2799 - val_accuracy: 0.5600 - 558ms/epoch - 25ms/step\n",
            "Epoch 35/100\n",
            "22/22 - 1s - loss: 0.9587 - accuracy: 0.6624 - val_loss: 1.1882 - val_accuracy: 0.6000 - 583ms/epoch - 26ms/step\n",
            "Epoch 36/100\n",
            "22/22 - 1s - loss: 0.9205 - accuracy: 0.7010 - val_loss: 1.2109 - val_accuracy: 0.5633 - 583ms/epoch - 26ms/step\n",
            "Epoch 37/100\n",
            "22/22 - 1s - loss: 0.8837 - accuracy: 0.7110 - val_loss: 1.1700 - val_accuracy: 0.5900 - 576ms/epoch - 26ms/step\n",
            "Epoch 38/100\n",
            "22/22 - 1s - loss: 0.8589 - accuracy: 0.7153 - val_loss: 1.1989 - val_accuracy: 0.5633 - 583ms/epoch - 27ms/step\n",
            "Epoch 39/100\n",
            "22/22 - 1s - loss: 0.8587 - accuracy: 0.6924 - val_loss: 1.1646 - val_accuracy: 0.5733 - 580ms/epoch - 26ms/step\n",
            "Epoch 40/100\n",
            "22/22 - 1s - loss: 0.8473 - accuracy: 0.6967 - val_loss: 1.2133 - val_accuracy: 0.5633 - 569ms/epoch - 26ms/step\n",
            "Epoch 41/100\n",
            "22/22 - 1s - loss: 0.8468 - accuracy: 0.7282 - val_loss: 1.1679 - val_accuracy: 0.5667 - 563ms/epoch - 26ms/step\n",
            "Epoch 42/100\n",
            "22/22 - 1s - loss: 0.8151 - accuracy: 0.7368 - val_loss: 1.1769 - val_accuracy: 0.5700 - 570ms/epoch - 26ms/step\n",
            "Epoch 43/100\n",
            "22/22 - 1s - loss: 0.7836 - accuracy: 0.7382 - val_loss: 1.1401 - val_accuracy: 0.5700 - 557ms/epoch - 25ms/step\n",
            "Epoch 44/100\n",
            "22/22 - 1s - loss: 0.7855 - accuracy: 0.7268 - val_loss: 1.1327 - val_accuracy: 0.5833 - 562ms/epoch - 26ms/step\n",
            "Epoch 45/100\n",
            "22/22 - 1s - loss: 0.7636 - accuracy: 0.7425 - val_loss: 1.1519 - val_accuracy: 0.5800 - 557ms/epoch - 25ms/step\n",
            "Epoch 46/100\n",
            "22/22 - 1s - loss: 0.7461 - accuracy: 0.7482 - val_loss: 1.1622 - val_accuracy: 0.5633 - 557ms/epoch - 25ms/step\n",
            "Epoch 47/100\n",
            "22/22 - 1s - loss: 0.7022 - accuracy: 0.7668 - val_loss: 1.2023 - val_accuracy: 0.5567 - 561ms/epoch - 25ms/step\n",
            "Epoch 48/100\n",
            "22/22 - 1s - loss: 0.7022 - accuracy: 0.7725 - val_loss: 1.1583 - val_accuracy: 0.5700 - 555ms/epoch - 25ms/step\n",
            "Epoch 49/100\n",
            "22/22 - 1s - loss: 0.6625 - accuracy: 0.7797 - val_loss: 1.0888 - val_accuracy: 0.5900 - 562ms/epoch - 26ms/step\n",
            "Epoch 50/100\n",
            "22/22 - 1s - loss: 0.7178 - accuracy: 0.7539 - val_loss: 1.1207 - val_accuracy: 0.5833 - 563ms/epoch - 26ms/step\n",
            "Epoch 51/100\n",
            "22/22 - 1s - loss: 0.6348 - accuracy: 0.7983 - val_loss: 1.1368 - val_accuracy: 0.5867 - 561ms/epoch - 25ms/step\n",
            "Epoch 52/100\n",
            "22/22 - 1s - loss: 0.6560 - accuracy: 0.7926 - val_loss: 1.1236 - val_accuracy: 0.5700 - 555ms/epoch - 25ms/step\n",
            "Epoch 53/100\n",
            "22/22 - 1s - loss: 0.6242 - accuracy: 0.8140 - val_loss: 1.1554 - val_accuracy: 0.5700 - 557ms/epoch - 25ms/step\n",
            "Epoch 54/100\n",
            "22/22 - 1s - loss: 0.6133 - accuracy: 0.8112 - val_loss: 1.1396 - val_accuracy: 0.5867 - 558ms/epoch - 25ms/step\n",
            "Epoch 55/100\n",
            "22/22 - 1s - loss: 0.6102 - accuracy: 0.8097 - val_loss: 1.1493 - val_accuracy: 0.5733 - 559ms/epoch - 25ms/step\n",
            "Epoch 56/100\n",
            "22/22 - 1s - loss: 0.6016 - accuracy: 0.8097 - val_loss: 1.1537 - val_accuracy: 0.5600 - 557ms/epoch - 25ms/step\n",
            "Epoch 57/100\n",
            "22/22 - 1s - loss: 0.5687 - accuracy: 0.8298 - val_loss: 1.1414 - val_accuracy: 0.5633 - 561ms/epoch - 26ms/step\n",
            "Epoch 58/100\n",
            "22/22 - 1s - loss: 0.5633 - accuracy: 0.8312 - val_loss: 1.1188 - val_accuracy: 0.6033 - 559ms/epoch - 25ms/step\n",
            "Epoch 59/100\n",
            "22/22 - 1s - loss: 0.5481 - accuracy: 0.8255 - val_loss: 1.0935 - val_accuracy: 0.5800 - 595ms/epoch - 27ms/step\n",
            "Epoch 60/100\n",
            "22/22 - 1s - loss: 0.5609 - accuracy: 0.8340 - val_loss: 1.0333 - val_accuracy: 0.6233 - 579ms/epoch - 26ms/step\n",
            "Epoch 61/100\n",
            "22/22 - 1s - loss: 0.5418 - accuracy: 0.8312 - val_loss: 1.0812 - val_accuracy: 0.6067 - 560ms/epoch - 25ms/step\n",
            "Epoch 62/100\n",
            "22/22 - 1s - loss: 0.4987 - accuracy: 0.8512 - val_loss: 1.1401 - val_accuracy: 0.5833 - 557ms/epoch - 25ms/step\n",
            "Epoch 63/100\n",
            "22/22 - 1s - loss: 0.5390 - accuracy: 0.8212 - val_loss: 1.2027 - val_accuracy: 0.5433 - 559ms/epoch - 25ms/step\n",
            "Epoch 64/100\n",
            "22/22 - 1s - loss: 0.4701 - accuracy: 0.8541 - val_loss: 1.1889 - val_accuracy: 0.5700 - 557ms/epoch - 25ms/step\n",
            "Epoch 65/100\n",
            "22/22 - 1s - loss: 0.4858 - accuracy: 0.8569 - val_loss: 1.2550 - val_accuracy: 0.5600 - 559ms/epoch - 25ms/step\n",
            "Epoch 66/100\n",
            "22/22 - 1s - loss: 0.4775 - accuracy: 0.8555 - val_loss: 1.1786 - val_accuracy: 0.5800 - 561ms/epoch - 26ms/step\n",
            "Epoch 67/100\n",
            "22/22 - 1s - loss: 0.5122 - accuracy: 0.8369 - val_loss: 1.1505 - val_accuracy: 0.5800 - 558ms/epoch - 25ms/step\n",
            "Epoch 68/100\n",
            "22/22 - 1s - loss: 0.4570 - accuracy: 0.8727 - val_loss: 1.1722 - val_accuracy: 0.5733 - 598ms/epoch - 27ms/step\n",
            "Epoch 69/100\n",
            "22/22 - 1s - loss: 0.4702 - accuracy: 0.8627 - val_loss: 1.1211 - val_accuracy: 0.5733 - 556ms/epoch - 25ms/step\n",
            "Epoch 70/100\n",
            "22/22 - 1s - loss: 0.4437 - accuracy: 0.8670 - val_loss: 1.1549 - val_accuracy: 0.5800 - 564ms/epoch - 26ms/step\n",
            "Epoch 71/100\n",
            "22/22 - 1s - loss: 0.4256 - accuracy: 0.8741 - val_loss: 1.2163 - val_accuracy: 0.5700 - 563ms/epoch - 26ms/step\n",
            "Epoch 72/100\n",
            "22/22 - 1s - loss: 0.4180 - accuracy: 0.8813 - val_loss: 1.1776 - val_accuracy: 0.5600 - 559ms/epoch - 25ms/step\n",
            "Epoch 73/100\n",
            "22/22 - 1s - loss: 0.4278 - accuracy: 0.8770 - val_loss: 1.0974 - val_accuracy: 0.6000 - 557ms/epoch - 25ms/step\n",
            "Epoch 74/100\n",
            "22/22 - 1s - loss: 0.4098 - accuracy: 0.8841 - val_loss: 1.1817 - val_accuracy: 0.5867 - 556ms/epoch - 25ms/step\n",
            "Epoch 75/100\n",
            "22/22 - 1s - loss: 0.4071 - accuracy: 0.8770 - val_loss: 1.1468 - val_accuracy: 0.5933 - 558ms/epoch - 25ms/step\n",
            "Epoch 76/100\n",
            "22/22 - 1s - loss: 0.3932 - accuracy: 0.8798 - val_loss: 1.2222 - val_accuracy: 0.5700 - 560ms/epoch - 25ms/step\n",
            "Epoch 77/100\n",
            "22/22 - 1s - loss: 0.3577 - accuracy: 0.8884 - val_loss: 1.1289 - val_accuracy: 0.5933 - 559ms/epoch - 25ms/step\n",
            "Epoch 78/100\n",
            "22/22 - 1s - loss: 0.3700 - accuracy: 0.8984 - val_loss: 1.2102 - val_accuracy: 0.5933 - 589ms/epoch - 27ms/step\n",
            "Epoch 79/100\n",
            "22/22 - 1s - loss: 0.3627 - accuracy: 0.8941 - val_loss: 1.0845 - val_accuracy: 0.6000 - 562ms/epoch - 26ms/step\n",
            "Epoch 80/100\n",
            "22/22 - 1s - loss: 0.3457 - accuracy: 0.9056 - val_loss: 1.1929 - val_accuracy: 0.5800 - 560ms/epoch - 25ms/step\n",
            "Epoch 81/100\n",
            "22/22 - 1s - loss: 0.3474 - accuracy: 0.8999 - val_loss: 1.1782 - val_accuracy: 0.5667 - 562ms/epoch - 26ms/step\n",
            "Epoch 82/100\n",
            "22/22 - 1s - loss: 0.3442 - accuracy: 0.9084 - val_loss: 1.1779 - val_accuracy: 0.5933 - 549ms/epoch - 25ms/step\n",
            "Epoch 83/100\n",
            "22/22 - 1s - loss: 0.3334 - accuracy: 0.9056 - val_loss: 1.1761 - val_accuracy: 0.6033 - 564ms/epoch - 26ms/step\n",
            "Epoch 84/100\n",
            "22/22 - 1s - loss: 0.3355 - accuracy: 0.8927 - val_loss: 1.1826 - val_accuracy: 0.5900 - 593ms/epoch - 27ms/step\n",
            "Epoch 85/100\n",
            "22/22 - 1s - loss: 0.3080 - accuracy: 0.9156 - val_loss: 1.1372 - val_accuracy: 0.5800 - 578ms/epoch - 26ms/step\n",
            "Epoch 86/100\n",
            "22/22 - 1s - loss: 0.2860 - accuracy: 0.9199 - val_loss: 1.1733 - val_accuracy: 0.5900 - 586ms/epoch - 27ms/step\n",
            "Epoch 87/100\n",
            "22/22 - 1s - loss: 0.2869 - accuracy: 0.9371 - val_loss: 1.2469 - val_accuracy: 0.5867 - 598ms/epoch - 27ms/step\n",
            "Epoch 88/100\n",
            "22/22 - 1s - loss: 0.2832 - accuracy: 0.9299 - val_loss: 1.1948 - val_accuracy: 0.5867 - 562ms/epoch - 26ms/step\n",
            "Epoch 89/100\n",
            "22/22 - 1s - loss: 0.2789 - accuracy: 0.9328 - val_loss: 1.2006 - val_accuracy: 0.5933 - 560ms/epoch - 25ms/step\n",
            "Epoch 90/100\n",
            "22/22 - 1s - loss: 0.3032 - accuracy: 0.9199 - val_loss: 1.2548 - val_accuracy: 0.5800 - 561ms/epoch - 25ms/step\n",
            "Epoch 91/100\n",
            "22/22 - 1s - loss: 0.2686 - accuracy: 0.9385 - val_loss: 1.2080 - val_accuracy: 0.5833 - 560ms/epoch - 25ms/step\n",
            "Epoch 92/100\n",
            "22/22 - 1s - loss: 0.2779 - accuracy: 0.9356 - val_loss: 1.2361 - val_accuracy: 0.5800 - 559ms/epoch - 25ms/step\n",
            "Epoch 93/100\n",
            "22/22 - 1s - loss: 0.2585 - accuracy: 0.9356 - val_loss: 1.3548 - val_accuracy: 0.5633 - 564ms/epoch - 26ms/step\n",
            "Epoch 94/100\n",
            "22/22 - 1s - loss: 0.2549 - accuracy: 0.9371 - val_loss: 1.2596 - val_accuracy: 0.5833 - 579ms/epoch - 26ms/step\n",
            "Epoch 95/100\n",
            "22/22 - 1s - loss: 0.2671 - accuracy: 0.9299 - val_loss: 1.2809 - val_accuracy: 0.6100 - 566ms/epoch - 26ms/step\n",
            "Epoch 96/100\n",
            "22/22 - 1s - loss: 0.2855 - accuracy: 0.9270 - val_loss: 1.2212 - val_accuracy: 0.6033 - 563ms/epoch - 26ms/step\n",
            "Epoch 97/100\n",
            "22/22 - 1s - loss: 0.2460 - accuracy: 0.9285 - val_loss: 1.2621 - val_accuracy: 0.6033 - 559ms/epoch - 25ms/step\n",
            "Epoch 98/100\n",
            "22/22 - 1s - loss: 0.2295 - accuracy: 0.9514 - val_loss: 1.3199 - val_accuracy: 0.5767 - 579ms/epoch - 26ms/step\n",
            "Epoch 99/100\n",
            "22/22 - 1s - loss: 0.2669 - accuracy: 0.9256 - val_loss: 1.2785 - val_accuracy: 0.5833 - 560ms/epoch - 25ms/step\n",
            "Epoch 100/100\n",
            "22/22 - 1s - loss: 0.2271 - accuracy: 0.9456 - val_loss: 1.2389 - val_accuracy: 0.5867 - 561ms/epoch - 26ms/step\n"
          ]
        }
      ],
      "source": [
        "history = model.fit(X_train_1d,\n",
        "                    y_train_1d,\n",
        "                    epochs = EPOCHS,                  \n",
        "                    verbose = 2,\n",
        "                    validation_data = (X_test_1d, y_test_1d))"
      ]
    },
    {
      "cell_type": "code",
      "execution_count": 42,
      "metadata": {
        "colab": {
          "base_uri": "https://localhost:8080/",
          "height": 422
        },
        "id": "4HxLS75OYN6r",
        "outputId": "f9765f70-3733-4465-d095-dee23201db9e"
      },
      "outputs": [
        {
          "data": {
            "text/plain": [
              "<matplotlib.legend.Legend at 0x2f9bbf7c0>"
            ]
          },
          "execution_count": 42,
          "metadata": {},
          "output_type": "execute_result"
        },
        {
          "data": {
            "image/png": "[encoded data removed]",
            "text/plain": [
              "<Figure size 800x600 with 1 Axes>"
            ]
          },
          "metadata": {},
          "output_type": "display_data"
        }
      ],
      "source": [
        "plt.figure(figsize = (8,6))\n",
        "plt.plot(history.history['accuracy'])\n",
        "plt.plot(history.history['val_accuracy'])\n",
        "plt.xlabel('Epochs')\n",
        "plt.ylabel('Accuracy')\n",
        "plt.title('model accuracy')\n",
        "plt.legend(['train','val'])"
      ]
    },
    {
      "cell_type": "code",
      "execution_count": 43,
      "metadata": {
        "colab": {
          "base_uri": "https://localhost:8080/",
          "height": 422
        },
        "id": "C8WpsL9NdDZ3",
        "outputId": "f24ca0a8-7e38-4289-e74b-ba759445860c"
      },
      "outputs": [
        {
          "data": {
            "text/plain": [
              "<matplotlib.legend.Legend at 0x2de3965c0>"
            ]
          },
          "execution_count": 43,
          "metadata": {},
          "output_type": "execute_result"
        },
        {
          "data": {
            "image/png": "[encoded data removed]",
            "text/plain": [
              "<Figure size 800x600 with 1 Axes>"
            ]
          },
          "metadata": {},
          "output_type": "display_data"
        }
      ],
      "source": [
        "plt.figure(figsize = (8,6))\n",
        "plt.plot(history.history['loss'])\n",
        "plt.plot(history.history['val_loss'])\n",
        "plt.xlabel('Epochs')\n",
        "plt.ylabel('Loss')\n",
        "plt.title('model loss')\n",
        "plt.legend(['train','val'])"
      ]
    },
    {
      "cell_type": "code",
      "execution_count": null,
      "metadata": {
        "id": "QvME46ngdy20"
      },
      "outputs": [],
      "source": []
    }
  ],
  "metadata": {
    "colab": {
      "provenance": []
    },
    "kernelspec": {
      "display_name": "Python 3.10.8 ('venv': venv)",
      "language": "python",
      "name": "python3"
    },
    "language_info": {
      "codemirror_mode": {
        "name": "ipython",
        "version": 3
      },
      "file_extension": ".py",
      "mimetype": "text/x-python",
      "name": "python",
      "nbconvert_exporter": "python",
      "pygments_lexer": "ipython3",
      "version": "3.10.8"
    },
    "vscode": {
      "interpreter": {
        "hash": "5d9b387c0d1841df99e59be80f601d0d665fbff861407db37cec5394f1e10dde"
      }
    }
  },
  "nbformat": 4,
  "nbformat_minor": 0
}
