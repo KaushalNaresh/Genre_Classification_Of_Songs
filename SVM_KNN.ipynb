{
 "cells": [
  {
   "cell_type": "code",
   "execution_count": 1,
   "metadata": {},
   "outputs": [],
   "source": [
    "import sklearn as skl\n",
    "from sklearn.neighbors import KNeighborsClassifier\n",
    "import pandas as pd"
   ]
  },
  {
   "cell_type": "code",
   "execution_count": 2,
   "metadata": {},
   "outputs": [],
   "source": [
    "GTZAN_DIR = '/Users/nkkaushal/Documents/Fall22/ECS_271/Project/dataset/GTZAN_data/'\n",
    "features = pd.read_csv(GTZAN_DIR+\"features.csv\")"
   ]
  },
  {
   "cell_type": "code",
   "execution_count": 3,
   "metadata": {},
   "outputs": [],
   "source": [
    "def get_test_train_split(X, Y):\n",
    "    \n",
    "    X_train, X_test, Y_train, Y_test = skl.model_selection.train_test_split(X, Y, test_size=0.3, random_state=42)\n",
    "\n",
    "    # Be sure training samples are shuffled.\n",
    "    X_train, Y_train = skl.utils.shuffle(X_train, Y_train, random_state=42)\n",
    "\n",
    "    return [X_train, X_test, Y_train, Y_test]"
   ]
  },
  {
   "cell_type": "code",
   "execution_count": 4,
   "metadata": {},
   "outputs": [],
   "source": [
    "def SVM_score(X_train, Y_train, X_test, Y_test):\n",
    "    \n",
    "    # Standardize features by removing the mean and scaling to unit variance.\n",
    "    scaler = skl.preprocessing.StandardScaler(copy=False)\n",
    "    scaler.fit_transform(X_train)\n",
    "    scaler.transform(X_test)\n",
    "\n",
    "    # Support vector classification.\n",
    "    clf = skl.svm.SVC()\n",
    "    clf.fit(X_train, Y_train)\n",
    "    score = clf.score(X_test, Y_test)\n",
    "\n",
    "    return score"
   ]
  },
  {
   "cell_type": "code",
   "execution_count": 5,
   "metadata": {},
   "outputs": [],
   "source": [
    "def KNN_score(X_train, Y_train, X_test, Y_test):\n",
    "    \n",
    "    # # Standardize features by removing the mean and scaling to unit variance.\n",
    "    # scaler = skl.preprocessing.StandardScaler(copy=False)\n",
    "    # scaler.fit_transform(X_train)\n",
    "    # scaler.transform(X_test)\n",
    "\n",
    "    # Support KNN classification.\n",
    "    neigh = KNeighborsClassifier(n_neighbors=5)\n",
    "    neigh.fit(X_train, Y_train)\n",
    "    score = neigh.score(X_test, Y_test)\n",
    "\n",
    "    return score"
   ]
  },
  {
   "cell_type": "code",
   "execution_count": 6,
   "metadata": {},
   "outputs": [],
   "source": [
    "def train_models(model):\n",
    "\n",
    "    Y = features['label']\n",
    "\n",
    "    X_ZCR = features[['ZRC' + str(ind) for ind in range(1,31)]]\n",
    "    X_train_zcr, X_test_zcr, Y_train_zcr, Y_test_zcr = get_test_train_split(X_ZCR, Y)\n",
    "\n",
    "    X_MFCC = features[['MFCC' + str(ind) for ind in range(1,61)]]\n",
    "    X_train_mfcc, X_test_mfcc, Y_train_mfcc, Y_test_mfcc = get_test_train_split(X_MFCC, Y)\n",
    "\n",
    "    X_ZCR_MFCC = features[['ZRC' + str(ind) for ind in range(1,31)]+['MFCC' + str(ind) for ind in range(1,61)]]\n",
    "    X_train_zcr_mfcc, X_test_zcr_mfcc, Y_train_zcr_mfcc, Y_test_zcr_mfcc = get_test_train_split(X_ZCR_MFCC, Y)\n",
    "\n",
    "    if model == \"SVM\":\n",
    "\n",
    "        score_zcr = SVM_score(X_train_zcr, Y_train_zcr, X_test_zcr, Y_test_zcr)\n",
    "        print('Accuracy on SVM for ZCR: {:.2%}'.format(score_zcr))\n",
    "\n",
    "        score_mfcc = SVM_score(X_train_mfcc, Y_train_mfcc, X_test_mfcc, Y_test_mfcc)\n",
    "        print('Accuracy on SVM for MFCC: {:.2%}'.format(score_mfcc))\n",
    "\n",
    "        score_zcr_mfcc = SVM_score(X_train_zcr_mfcc, Y_train_zcr_mfcc, X_test_zcr_mfcc, Y_test_zcr_mfcc)\n",
    "        print('Accuracy on SVM for ZCR and MFCC: {:.2%}'.format(score_zcr_mfcc))\n",
    "\n",
    "    elif model == \"KNN\":\n",
    "    \n",
    "        score_zcr = KNN_score(X_train_zcr, Y_train_zcr, X_test_zcr, Y_test_zcr)\n",
    "        print('Accuracy on KNN for ZCR: {:.2%}'.format(score_zcr))\n",
    "\n",
    "        score_mfcc = KNN_score(X_train_mfcc, Y_train_mfcc, X_test_mfcc, Y_test_mfcc)\n",
    "        print('Accuracy on KNN for MFCC: {:.2%}'.format(score_mfcc))\n",
    "\n",
    "        score_zcr_mfcc = KNN_score(X_train_zcr_mfcc, Y_train_zcr_mfcc, X_test_zcr_mfcc, Y_test_zcr_mfcc)\n",
    "        print('Accuracy on KNN for ZCR and MFCC: {:.2%}'.format(score_zcr_mfcc))"
   ]
  },
  {
   "cell_type": "code",
   "execution_count": 7,
   "metadata": {},
   "outputs": [
    {
     "name": "stdout",
     "output_type": "stream",
     "text": [
      "Accuracy on SVM for ZCR: 23.67%\n",
      "Accuracy on SVM for MFCC: 64.33%\n",
      "Accuracy on SVM for ZCR and MFCC: 62.00%\n"
     ]
    }
   ],
   "source": [
    "## Training the SVM model\n",
    "train_models(\"SVM\")"
   ]
  },
  {
   "cell_type": "code",
   "execution_count": 8,
   "metadata": {},
   "outputs": [
    {
     "name": "stdout",
     "output_type": "stream",
     "text": [
      "Accuracy on KNN for ZCR: 19.00%\n",
      "Accuracy on KNN for MFCC: 31.67%\n",
      "Accuracy on KNN for ZCR and MFCC: 31.67%\n"
     ]
    }
   ],
   "source": [
    "train_models(\"KNN\")"
   ]
  },
  {
   "cell_type": "code",
   "execution_count": null,
   "metadata": {},
   "outputs": [],
   "source": []
  }
 ],
 "metadata": {
  "kernelspec": {
   "display_name": "Python 3.10.8 ('venv': venv)",
   "language": "python",
   "name": "python3"
  },
  "language_info": {
   "codemirror_mode": {
    "name": "ipython",
    "version": 3
   },
   "file_extension": ".py",
   "mimetype": "text/x-python",
   "name": "python",
   "nbconvert_exporter": "python",
   "pygments_lexer": "ipython3",
   "version": "3.10.8"
  },
  "orig_nbformat": 4,
  "vscode": {
   "interpreter": {
    "hash": "5d9b387c0d1841df99e59be80f601d0d665fbff861407db37cec5394f1e10dde"
   }
  }
 },
 "nbformat": 4,
 "nbformat_minor": 2
}
