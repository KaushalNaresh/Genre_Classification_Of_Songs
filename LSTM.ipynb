{
 "cells": [
  {
   "cell_type": "code",
   "execution_count": 1,
   "metadata": {},
   "outputs": [],
   "source": [
    "## The input shape of the LSTM layer is 700 × 30, 700 × 60 or 700 × 90 \n",
    "## where 700 is the amount of music\n",
    "## The output of the LSTM layer is 700 × 128, 128 is the number of units in LSTM layer\n",
    "## Additionally, the activation functions used in this project are the hyperbolic tangen\n",
    "## and sigmoid"
   ]
  },
  {
   "cell_type": "code",
   "execution_count": 1,
   "metadata": {},
   "outputs": [
    {
     "name": "stdout",
     "output_type": "stream",
     "text": [
      "importing Jupyter notebook from SVM_KNN.ipynb\n",
      "Accuracy on SVM for ZCR: 37.37%\n",
      "Accuracy on SVM for MFCC: 84.48%\n",
      "Accuracy on SVM for ZCR and MFCC: 82.68%\n",
      "Accuracy on KNN for ZCR: 25.33%\n",
      "Accuracy on KNN for MFCC: 44.24%\n",
      "Accuracy on KNN for ZCR and MFCC: 44.24%\n"
     ]
    }
   ],
   "source": [
    "from keras.models import Sequential\n",
    "import tensorflow as tf\n",
    "from tensorflow.keras.layers import LSTM\n",
    "from keras.layers import Bidirectional\n",
    "from tensorflow.keras.layers import Dense, Input\n",
    "from tensorflow.keras import regularizers\n",
    "import pandas as pd\n",
    "import sklearn as skl\n",
    "import sklearn.model_selection as skm\n",
    "from keras.optimizers import Adam\n",
    "from keras.models import Model\n",
    "import numpy as np\n",
    "from keras import backend as K\n",
    "import import_ipynb\n",
    "import SVM_KNN as sknn"
   ]
  },
  {
   "cell_type": "code",
   "execution_count": 2,
   "metadata": {},
   "outputs": [],
   "source": [
    "GTZAN_DIR = '/Users/nkkaushal/Documents/Fall22/ECS_271/Project/dataset/GTZAN_data/'\n",
    "features = pd.read_csv(GTZAN_DIR+\"zcr_mfcc_3_sec.csv\")"
   ]
  },
  {
   "cell_type": "code",
   "execution_count": 33,
   "metadata": {},
   "outputs": [],
   "source": [
    "def get_test_train_split(X, Y, norm, shuffle, test_size):\n",
    "\n",
    "    if(norm == 1):\n",
    "        scaler = skl.preprocessing.StandardScaler(copy=False)\n",
    "        scaler.fit_transform(X)\n",
    "    \n",
    "    X_train, X_test, Y_train, Y_test = skm.train_test_split(X, Y, test_size=test_size, random_state=42)\n",
    "\n",
    "    if(shuffle == 1):\n",
    "        # Be sure training samples are shuffled.\n",
    "        X_train, Y_train = skl.utils.shuffle(X_train, Y_train, random_state=42)\n",
    "        X_test, Y_test = skl.utils.shuffle(X_test, Y_test, random_state=42)\n",
    "\n",
    "    return [X_train, X_test, Y_train, Y_test]"
   ]
  },
  {
   "cell_type": "code",
   "execution_count": 34,
   "metadata": {},
   "outputs": [],
   "source": [
    "X_ZCR = features[['ZRC' + str(ind) for ind in range(1,31)]]\n",
    "X_MFCC = features[['MFCC' + str(ind) for ind in range(1,61)]]\n",
    "X_ZCR_MFCC = features[['ZRC' + str(ind) for ind in range(1,31)]+['MFCC' + str(ind) for ind in range(1,61)]]\n",
    "Y = features['label']\n",
    "\n",
    "genre_list = Y.unique().tolist()"
   ]
  },
  {
   "cell_type": "code",
   "execution_count": 35,
   "metadata": {},
   "outputs": [
    {
     "data": {
      "text/plain": [
       "(9990, 90)"
      ]
     },
     "execution_count": 35,
     "metadata": {},
     "output_type": "execute_result"
    }
   ],
   "source": [
    "X_ZCR_MFCC.shape"
   ]
  },
  {
   "cell_type": "code",
   "execution_count": 36,
   "metadata": {},
   "outputs": [],
   "source": [
    "def one_hot(Y_genre_strings):\n",
    "    y_one_hot = np.zeros((Y_genre_strings.shape[0], len(genre_list)))\n",
    "    for i, genre_string in enumerate(Y_genre_strings):\n",
    "        index = genre_list.index(genre_string)\n",
    "        y_one_hot[i, index] = 1\n",
    "    return y_one_hot"
   ]
  },
  {
   "cell_type": "code",
   "execution_count": 35,
   "metadata": {},
   "outputs": [],
   "source": [
    "Y_one_hot = one_hot(Y)\n",
    "X_train_zcr, X_test_zcr, Y_train_zcr, Y_test_zcr = get_test_train_split(X_ZCR, Y_one_hot)\n",
    "X_train_zcr = X_train_zcr.to_numpy().reshape((X_train_zcr.shape[0], X_train_zcr.shape[1], 1))\n",
    "X_test_zcr = X_test_zcr.to_numpy().reshape((X_test_zcr.shape[0], X_test_zcr.shape[1], 1))\n",
    "# Y_train_zcr = Y_train_zcr.reshape((Y_train_zcr.shape[0], Y_train_zcr.shape[1], 1))\n",
    "input_shape = (X_train_zcr.shape[1], X_train_zcr.shape[2])"
   ]
  },
  {
   "cell_type": "code",
   "execution_count": 37,
   "metadata": {},
   "outputs": [],
   "source": [
    "# Y_one_hot = one_hot(Y)\n",
    "X_train_mfcc, X_test_mfcc, Y_train_mfcc, Y_test_mfcc = get_test_train_split(X_MFCC, Y, norm = 1, shuffle = 1, test_size = 0.3)\n",
    "Y_one_hot_train = one_hot(Y_train_mfcc)\n",
    "\n",
    "X_test_mfcc, X_val_mfcc, Y_test_mfcc, Y_val_mfcc = get_test_train_split(X_test_mfcc, Y_test_mfcc, norm = 0, shuffle = 0, test_size = 0.33)\n",
    "Y_one_hot_test = one_hot(Y_test_mfcc)\n",
    "Y_one_hot_val = one_hot(Y_val_mfcc)\n",
    "\n",
    "X_train_mfcc = X_train_mfcc.to_numpy().reshape((X_train_mfcc.shape[0], X_train_mfcc.shape[1], 1))\n",
    "X_test_mfcc = X_test_mfcc.to_numpy().reshape((X_test_mfcc.shape[0], X_test_mfcc.shape[1], 1))\n",
    "X_val_mfcc = X_val_mfcc.to_numpy().reshape((X_val_mfcc.shape[0], X_val_mfcc.shape[1], 1))\n",
    "# Y_train_zcr = Y_train_zcr.reshape((Y_train_zcr.shape[0], Y_train_zcr.shape[1], 1))\n",
    "input_shape = (X_train_mfcc.shape[1], X_train_mfcc.shape[2])"
   ]
  },
  {
   "cell_type": "code",
   "execution_count": 38,
   "metadata": {},
   "outputs": [
    {
     "name": "stdout",
     "output_type": "stream",
     "text": [
      "(6993, 60, 1) (2007, 60, 1) (990, 60, 1)\n"
     ]
    }
   ],
   "source": [
    "print(X_train_mfcc.shape, X_test_mfcc.shape, X_val_mfcc.shape)"
   ]
  },
  {
   "cell_type": "code",
   "execution_count": 47,
   "metadata": {},
   "outputs": [
    {
     "name": "stdout",
     "output_type": "stream",
     "text": [
      "Counter({'pop': 733, 'jazz': 714, 'country': 711, 'disco': 698, 'rock': 698, 'metal': 697, 'classical': 690, 'hiphop': 687, 'reggae': 684, 'blues': 681})\n",
      "Counter({'reggae': 220, 'hiphop': 212, 'blues': 210, 'disco': 203, 'classical': 202, 'metal': 198, 'country': 197, 'jazz': 196, 'rock': 194, 'pop': 175})\n",
      "Counter({'blues': 109, 'rock': 106, 'classical': 106, 'metal': 105, 'hiphop': 99, 'disco': 98, 'reggae': 96, 'pop': 92, 'jazz': 90, 'country': 89})\n"
     ]
    }
   ],
   "source": [
    "from collections import Counter\n",
    "\n",
    "print(Counter(Y_train_mfcc))\n",
    "print(Counter(Y_test_mfcc))\n",
    "print(Counter(Y_val_mfcc))"
   ]
  },
  {
   "cell_type": "code",
   "execution_count": 274,
   "metadata": {},
   "outputs": [],
   "source": [
    "Y_one_hot = one_hot(Y)\n",
    "X_train_zcr_mfcc, X_test_zcr_mfcc, Y_train_zcr_mfcc, Y_test_zcr_mfcc = get_test_train_split(X_ZCR_MFCC, Y_one_hot, norm)\n",
    "X_train_zcr_mfcc = X_train_zcr_mfcc.to_numpy().reshape((X_train_zcr_mfcc.shape[0], 1, X_train_zcr_mfcc.shape[1]))\n",
    "X_test_zcr_mfcc = X_test_zcr_mfcc.to_numpy().reshape((X_test_zcr_mfcc.shape[0], 1, X_test_zcr_mfcc.shape[1]))\n",
    "# Y_train_zcr = Y_train_zcr.reshape((Y_train_zcr.shape[0], Y_train_zcr.shape[1], 1))\n",
    "input_shape = (X_train_zcr_mfcc.shape[1], X_train_zcr_mfcc.shape[2])"
   ]
  },
  {
   "cell_type": "code",
   "execution_count": 110,
   "metadata": {},
   "outputs": [
    {
     "data": {
      "text/plain": [
       "(700, 10)"
      ]
     },
     "execution_count": 110,
     "metadata": {},
     "output_type": "execute_result"
    }
   ],
   "source": [
    "Y_train_zcr.shape"
   ]
  },
  {
   "cell_type": "code",
   "execution_count": 52,
   "metadata": {},
   "outputs": [
    {
     "name": "stdout",
     "output_type": "stream",
     "text": [
      "WARNING:tensorflow:Layer lstm_7 will not use cuDNN kernels since it doesn't meet the criteria. It will use a generic GPU kernel as fallback when running on GPU.\n"
     ]
    }
   ],
   "source": [
    "inputs = Input(input_shape)\n",
    "# lstm1 = LSTM(units=64, return_sequences=True)(inputs)\n",
    "lstm = LSTM(units=128, return_sequences=False, dropout=0.05, recurrent_dropout=0.35)(inputs)\n",
    "# lstm1 = LSTM(units=128, activation = 'relu', return_sequences=False)(lstm)\n",
    "dense = Dense(units=10, activation=\"softmax\")(lstm)\n",
    "\n",
    "model = Model(inputs, dense)"
   ]
  },
  {
   "cell_type": "code",
   "execution_count": 53,
   "metadata": {},
   "outputs": [
    {
     "name": "stdout",
     "output_type": "stream",
     "text": [
      "Model: \"model_9\"\n",
      "_________________________________________________________________\n",
      " Layer (type)                Output Shape              Param #   \n",
      "=================================================================\n",
      " input_8 (InputLayer)        [(None, 60, 1)]           0         \n",
      "                                                                 \n",
      " lstm_7 (LSTM)               (None, 128)               66560     \n",
      "                                                                 \n",
      " dense_7 (Dense)             (None, 10)                1290      \n",
      "                                                                 \n",
      "=================================================================\n",
      "Total params: 67,850\n",
      "Trainable params: 67,850\n",
      "Non-trainable params: 0\n",
      "_________________________________________________________________\n"
     ]
    }
   ],
   "source": [
    "opt = Adam()\n",
    "model.compile(loss=\"categorical_crossentropy\", optimizer=opt, metrics=[\"accuracy\"])\n",
    "model.summary()"
   ]
  },
  {
   "cell_type": "code",
   "execution_count": 54,
   "metadata": {},
   "outputs": [
    {
     "name": "stdout",
     "output_type": "stream",
     "text": [
      "Training ...\n",
      "Epoch 1/100\n"
     ]
    },
    {
     "name": "stderr",
     "output_type": "stream",
     "text": [
      "2022-11-22 20:03:42.047876: I tensorflow/core/grappler/optimizers/custom_graph_optimizer_registry.cc:114] Plugin optimizer for device_type GPU is enabled.\n"
     ]
    },
    {
     "name": "stdout",
     "output_type": "stream",
     "text": [
      "156/156 [==============================] - ETA: 0s - loss: 2.0616 - accuracy: 0.2329"
     ]
    },
    {
     "name": "stderr",
     "output_type": "stream",
     "text": [
      "2022-11-22 20:26:06.002948: I tensorflow/core/grappler/optimizers/custom_graph_optimizer_registry.cc:114] Plugin optimizer for device_type GPU is enabled.\n"
     ]
    },
    {
     "name": "stdout",
     "output_type": "stream",
     "text": [
      "156/156 [==============================] - 1352s 9s/step - loss: 2.0616 - accuracy: 0.2329 - val_loss: 1.8676 - val_accuracy: 0.3232\n",
      "Epoch 2/100\n",
      "156/156 [==============================] - 1343s 9s/step - loss: 1.8654 - accuracy: 0.3202 - val_loss: 1.7619 - val_accuracy: 0.3747\n",
      "Epoch 3/100\n",
      "156/156 [==============================] - 1329s 9s/step - loss: 1.7872 - accuracy: 0.3545 - val_loss: 1.6756 - val_accuracy: 0.3939\n",
      "Epoch 4/100\n",
      "156/156 [==============================] - 1329s 9s/step - loss: 1.7220 - accuracy: 0.3811 - val_loss: 1.6032 - val_accuracy: 0.4343\n",
      "Epoch 5/100\n",
      "156/156 [==============================] - 976s 6s/step - loss: 1.6725 - accuracy: 0.3970 - val_loss: 1.5545 - val_accuracy: 0.4384\n",
      "Epoch 6/100\n",
      "156/156 [==============================] - 922s 6s/step - loss: 1.6059 - accuracy: 0.4210 - val_loss: 1.5087 - val_accuracy: 0.4556\n",
      "Epoch 7/100\n",
      "156/156 [==============================] - 940s 6s/step - loss: 1.5706 - accuracy: 0.4324 - val_loss: 1.4218 - val_accuracy: 0.5000\n",
      "Epoch 8/100\n",
      "156/156 [==============================] - 930s 6s/step - loss: 1.5328 - accuracy: 0.4446 - val_loss: 1.4130 - val_accuracy: 0.4909\n",
      "Epoch 9/100\n",
      "156/156 [==============================] - 937s 6s/step - loss: 1.5063 - accuracy: 0.4535 - val_loss: 1.4075 - val_accuracy: 0.4859\n",
      "Epoch 10/100\n",
      "156/156 [==============================] - 995s 6s/step - loss: 1.4722 - accuracy: 0.4692 - val_loss: 1.3693 - val_accuracy: 0.5111\n",
      "Epoch 11/100\n",
      "156/156 [==============================] - 987s 6s/step - loss: 1.4445 - accuracy: 0.4745 - val_loss: 1.3021 - val_accuracy: 0.5253\n",
      "Epoch 12/100\n",
      "156/156 [==============================] - 1040s 7s/step - loss: 1.4368 - accuracy: 0.4791 - val_loss: 1.2892 - val_accuracy: 0.5273\n",
      "Epoch 13/100\n",
      "156/156 [==============================] - 1025s 7s/step - loss: 1.4079 - accuracy: 0.4896 - val_loss: 1.2838 - val_accuracy: 0.5424\n",
      "Epoch 14/100\n",
      "156/156 [==============================] - 1092s 7s/step - loss: 1.3757 - accuracy: 0.5016 - val_loss: 1.2701 - val_accuracy: 0.5404\n",
      "Epoch 15/100\n",
      "156/156 [==============================] - 1434s 9s/step - loss: 1.3641 - accuracy: 0.5025 - val_loss: 1.2729 - val_accuracy: 0.5424\n",
      "Epoch 16/100\n",
      "156/156 [==============================] - 1311s 8s/step - loss: 1.3555 - accuracy: 0.4995 - val_loss: 1.2382 - val_accuracy: 0.5576\n",
      "Epoch 17/100\n",
      "156/156 [==============================] - 1371s 9s/step - loss: 1.3365 - accuracy: 0.5131 - val_loss: 1.1833 - val_accuracy: 0.5788\n",
      "Epoch 18/100\n",
      "156/156 [==============================] - 1339s 9s/step - loss: 1.3134 - accuracy: 0.5241 - val_loss: 1.1966 - val_accuracy: 0.5808\n",
      "Epoch 19/100\n",
      "156/156 [==============================] - 1337s 9s/step - loss: 1.2937 - accuracy: 0.5242 - val_loss: 1.1892 - val_accuracy: 0.5838\n",
      "Epoch 20/100\n",
      "156/156 [==============================] - 1343s 9s/step - loss: 1.2924 - accuracy: 0.5235 - val_loss: 1.1937 - val_accuracy: 0.5697\n",
      "Epoch 21/100\n",
      "156/156 [==============================] - 1342s 9s/step - loss: 1.2723 - accuracy: 0.5297 - val_loss: 1.1443 - val_accuracy: 0.6000\n",
      "Epoch 22/100\n",
      "156/156 [==============================] - 1331s 9s/step - loss: 1.2523 - accuracy: 0.5453 - val_loss: 1.1626 - val_accuracy: 0.5899\n",
      "Epoch 23/100\n",
      "156/156 [==============================] - 1338s 9s/step - loss: 1.2395 - accuracy: 0.5487 - val_loss: 1.1417 - val_accuracy: 0.6020\n",
      "Epoch 24/100\n",
      "156/156 [==============================] - 1336s 9s/step - loss: 1.2283 - accuracy: 0.5546 - val_loss: 1.1280 - val_accuracy: 0.5949\n",
      "Epoch 25/100\n",
      "156/156 [==============================] - 1343s 9s/step - loss: 1.2042 - accuracy: 0.5690 - val_loss: 1.1080 - val_accuracy: 0.6162\n",
      "Epoch 26/100\n",
      "156/156 [==============================] - 1338s 9s/step - loss: 1.2003 - accuracy: 0.5650 - val_loss: 1.0835 - val_accuracy: 0.6242\n",
      "Epoch 27/100\n",
      "156/156 [==============================] - 1341s 9s/step - loss: 1.1878 - accuracy: 0.5720 - val_loss: 1.1124 - val_accuracy: 0.6121\n",
      "Epoch 28/100\n",
      "156/156 [==============================] - 1334s 9s/step - loss: 1.1856 - accuracy: 0.5646 - val_loss: 1.1381 - val_accuracy: 0.6020\n",
      "Epoch 29/100\n",
      "156/156 [==============================] - 1345s 9s/step - loss: 1.1708 - accuracy: 0.5796 - val_loss: 1.0709 - val_accuracy: 0.6283\n",
      "Epoch 30/100\n",
      "156/156 [==============================] - 1341s 9s/step - loss: 1.1532 - accuracy: 0.5814 - val_loss: 1.0539 - val_accuracy: 0.6313\n",
      "Epoch 31/100\n",
      "156/156 [==============================] - 1342s 9s/step - loss: 1.1448 - accuracy: 0.5834 - val_loss: 1.0387 - val_accuracy: 0.6424\n",
      "Epoch 32/100\n",
      "156/156 [==============================] - 1342s 9s/step - loss: 1.1330 - accuracy: 0.5892 - val_loss: 1.0257 - val_accuracy: 0.6434\n",
      "Epoch 33/100\n",
      "156/156 [==============================] - 1339s 9s/step - loss: 1.1319 - accuracy: 0.5914 - val_loss: 1.0040 - val_accuracy: 0.6394\n",
      "Epoch 34/100\n",
      "156/156 [==============================] - 1339s 9s/step - loss: 1.1163 - accuracy: 0.5930 - val_loss: 1.0471 - val_accuracy: 0.6444\n",
      "Epoch 35/100\n",
      "156/156 [==============================] - 1334s 9s/step - loss: 1.1054 - accuracy: 0.5995 - val_loss: 1.0230 - val_accuracy: 0.6404\n",
      "Epoch 36/100\n",
      "156/156 [==============================] - 1332s 9s/step - loss: 1.1015 - accuracy: 0.5943 - val_loss: 1.0233 - val_accuracy: 0.6495\n",
      "Epoch 37/100\n",
      "156/156 [==============================] - 1326s 8s/step - loss: 1.0706 - accuracy: 0.6160 - val_loss: 1.0381 - val_accuracy: 0.6303\n",
      "Epoch 38/100\n",
      "156/156 [==============================] - 1343s 9s/step - loss: 1.0833 - accuracy: 0.6119 - val_loss: 1.0097 - val_accuracy: 0.6616\n",
      "Epoch 39/100\n",
      "156/156 [==============================] - 1344s 9s/step - loss: 1.0807 - accuracy: 0.6108 - val_loss: 0.9939 - val_accuracy: 0.6566\n",
      "Epoch 40/100\n",
      "156/156 [==============================] - 1339s 9s/step - loss: 1.0570 - accuracy: 0.6185 - val_loss: 0.9450 - val_accuracy: 0.6606\n",
      "Epoch 41/100\n",
      "156/156 [==============================] - 1347s 9s/step - loss: 1.0532 - accuracy: 0.6165 - val_loss: 0.9619 - val_accuracy: 0.6545\n",
      "Epoch 42/100\n",
      "156/156 [==============================] - 1347s 9s/step - loss: 1.0450 - accuracy: 0.6209 - val_loss: 0.9698 - val_accuracy: 0.6616\n",
      "Epoch 43/100\n",
      "156/156 [==============================] - 999s 6s/step - loss: 1.0431 - accuracy: 0.6209 - val_loss: 0.9526 - val_accuracy: 0.6717\n",
      "Epoch 44/100\n",
      "156/156 [==============================] - 939s 6s/step - loss: 1.0336 - accuracy: 0.6362 - val_loss: 0.9434 - val_accuracy: 0.6717\n",
      "Epoch 45/100\n",
      "156/156 [==============================] - 1292s 8s/step - loss: 1.0327 - accuracy: 0.6265 - val_loss: 1.0344 - val_accuracy: 0.6323\n",
      "Epoch 46/100\n",
      "156/156 [==============================] - 1338s 9s/step - loss: 1.0146 - accuracy: 0.6301 - val_loss: 0.9454 - val_accuracy: 0.6545\n",
      "Epoch 47/100\n",
      "156/156 [==============================] - 1341s 9s/step - loss: 1.0087 - accuracy: 0.6319 - val_loss: 0.9323 - val_accuracy: 0.6657\n",
      "Epoch 48/100\n",
      "156/156 [==============================] - 1342s 9s/step - loss: 0.9961 - accuracy: 0.6416 - val_loss: 0.9080 - val_accuracy: 0.6838\n",
      "Epoch 49/100\n",
      "156/156 [==============================] - 1341s 9s/step - loss: 1.0034 - accuracy: 0.6315 - val_loss: 0.9154 - val_accuracy: 0.6687\n",
      "Epoch 50/100\n",
      "156/156 [==============================] - 1346s 9s/step - loss: 0.9973 - accuracy: 0.6424 - val_loss: 0.9099 - val_accuracy: 0.6636\n",
      "Epoch 51/100\n",
      "156/156 [==============================] - 1339s 9s/step - loss: 0.9898 - accuracy: 0.6458 - val_loss: 0.9213 - val_accuracy: 0.6778\n",
      "Epoch 52/100\n",
      "156/156 [==============================] - 1256s 8s/step - loss: 0.9845 - accuracy: 0.6414 - val_loss: 0.9005 - val_accuracy: 0.6768\n",
      "Epoch 53/100\n",
      "156/156 [==============================] - 933s 6s/step - loss: 0.9787 - accuracy: 0.6475 - val_loss: 0.8870 - val_accuracy: 0.6788\n",
      "Epoch 54/100\n",
      "156/156 [==============================] - 942s 6s/step - loss: 0.9590 - accuracy: 0.6562 - val_loss: 0.8921 - val_accuracy: 0.6899\n",
      "Epoch 55/100\n",
      "156/156 [==============================] - 942s 6s/step - loss: 0.9450 - accuracy: 0.6575 - val_loss: 0.8661 - val_accuracy: 0.6909\n",
      "Epoch 56/100\n",
      "156/156 [==============================] - 940s 6s/step - loss: 0.9521 - accuracy: 0.6525 - val_loss: 0.8680 - val_accuracy: 0.6838\n",
      "Epoch 57/100\n",
      "156/156 [==============================] - 939s 6s/step - loss: 0.9376 - accuracy: 0.6602 - val_loss: 0.8772 - val_accuracy: 0.6899\n",
      "Epoch 58/100\n",
      "156/156 [==============================] - 941s 6s/step - loss: 0.9314 - accuracy: 0.6662 - val_loss: 0.8661 - val_accuracy: 0.6859\n",
      "Epoch 59/100\n",
      "156/156 [==============================] - 941s 6s/step - loss: 0.9255 - accuracy: 0.6670 - val_loss: 0.8799 - val_accuracy: 0.7020\n",
      "Epoch 60/100\n",
      "156/156 [==============================] - 1157s 7s/step - loss: 0.9234 - accuracy: 0.6648 - val_loss: 0.9018 - val_accuracy: 0.6818\n",
      "Epoch 61/100\n",
      "156/156 [==============================] - 1344s 9s/step - loss: 0.9256 - accuracy: 0.6625 - val_loss: 0.8782 - val_accuracy: 0.6869\n",
      "Epoch 62/100\n",
      "156/156 [==============================] - 1346s 9s/step - loss: 0.9168 - accuracy: 0.6700 - val_loss: 0.8563 - val_accuracy: 0.6960\n",
      "Epoch 63/100\n",
      "156/156 [==============================] - 1192s 8s/step - loss: 0.9030 - accuracy: 0.6702 - val_loss: 0.8843 - val_accuracy: 0.6778\n",
      "Epoch 64/100\n",
      "156/156 [==============================] - 1025s 7s/step - loss: 0.9120 - accuracy: 0.6658 - val_loss: 0.8869 - val_accuracy: 0.6727\n",
      "Epoch 65/100\n",
      "156/156 [==============================] - 1053s 7s/step - loss: 0.9006 - accuracy: 0.6720 - val_loss: 0.8326 - val_accuracy: 0.7101\n",
      "Epoch 66/100\n",
      "156/156 [==============================] - 1097s 7s/step - loss: 0.9009 - accuracy: 0.6698 - val_loss: 0.8640 - val_accuracy: 0.6970\n",
      "Epoch 67/100\n",
      "156/156 [==============================] - 1059s 7s/step - loss: 0.8966 - accuracy: 0.6768 - val_loss: 0.8301 - val_accuracy: 0.7121\n",
      "Epoch 68/100\n",
      "156/156 [==============================] - 1213s 8s/step - loss: 0.8936 - accuracy: 0.6780 - val_loss: 0.8631 - val_accuracy: 0.6899\n",
      "Epoch 69/100\n",
      "156/156 [==============================] - 1161s 7s/step - loss: 0.8809 - accuracy: 0.6785 - val_loss: 0.8434 - val_accuracy: 0.7030\n",
      "Epoch 70/100\n",
      "156/156 [==============================] - 1107s 7s/step - loss: 0.8791 - accuracy: 0.6771 - val_loss: 0.8319 - val_accuracy: 0.7010\n",
      "Epoch 71/100\n",
      "156/156 [==============================] - 1312s 8s/step - loss: 0.8670 - accuracy: 0.6820 - val_loss: 0.8458 - val_accuracy: 0.7020\n",
      "Epoch 72/100\n",
      "156/156 [==============================] - 1365s 9s/step - loss: 0.8591 - accuracy: 0.6898 - val_loss: 0.8609 - val_accuracy: 0.6919\n",
      "Epoch 73/100\n",
      "156/156 [==============================] - 1485s 10s/step - loss: 0.8594 - accuracy: 0.6936 - val_loss: 0.8111 - val_accuracy: 0.7061\n",
      "Epoch 74/100\n",
      "156/156 [==============================] - 1469s 9s/step - loss: 0.8595 - accuracy: 0.6814 - val_loss: 0.9011 - val_accuracy: 0.6848\n",
      "Epoch 75/100\n",
      "156/156 [==============================] - 1464s 9s/step - loss: 0.8549 - accuracy: 0.6865 - val_loss: 0.7891 - val_accuracy: 0.7273\n",
      "Epoch 76/100\n",
      "156/156 [==============================] - 1178s 8s/step - loss: 0.8544 - accuracy: 0.6911 - val_loss: 0.7969 - val_accuracy: 0.7192\n",
      "Epoch 77/100\n",
      "156/156 [==============================] - 1172s 7s/step - loss: 0.8343 - accuracy: 0.6970 - val_loss: 0.7909 - val_accuracy: 0.7111\n",
      "Epoch 78/100\n",
      "156/156 [==============================] - 1178s 8s/step - loss: 0.8396 - accuracy: 0.6924 - val_loss: 0.8246 - val_accuracy: 0.7020\n",
      "Epoch 79/100\n",
      "156/156 [==============================] - 940s 6s/step - loss: 0.8307 - accuracy: 0.6967 - val_loss: 0.8100 - val_accuracy: 0.7202\n",
      "Epoch 80/100\n",
      "156/156 [==============================] - 931s 6s/step - loss: 0.8177 - accuracy: 0.7017 - val_loss: 0.7987 - val_accuracy: 0.7121\n",
      "Epoch 81/100\n",
      "156/156 [==============================] - 929s 6s/step - loss: 0.8249 - accuracy: 0.6961 - val_loss: 0.8494 - val_accuracy: 0.6919\n",
      "Epoch 82/100\n",
      "156/156 [==============================] - 933s 6s/step - loss: 0.8260 - accuracy: 0.7013 - val_loss: 0.7727 - val_accuracy: 0.7263\n",
      "Epoch 83/100\n",
      "156/156 [==============================] - 1170s 8s/step - loss: 0.8189 - accuracy: 0.7028 - val_loss: 0.8117 - val_accuracy: 0.7152\n",
      "Epoch 84/100\n",
      "156/156 [==============================] - 1209s 8s/step - loss: 0.8001 - accuracy: 0.7089 - val_loss: 0.7702 - val_accuracy: 0.7323\n",
      "Epoch 85/100\n",
      "156/156 [==============================] - 1382s 9s/step - loss: 0.8102 - accuracy: 0.7036 - val_loss: 0.8409 - val_accuracy: 0.6939\n",
      "Epoch 86/100\n",
      "156/156 [==============================] - 1484s 10s/step - loss: 0.8011 - accuracy: 0.7066 - val_loss: 0.7777 - val_accuracy: 0.7293\n",
      "Epoch 87/100\n",
      "156/156 [==============================] - 1438s 9s/step - loss: 0.8008 - accuracy: 0.7131 - val_loss: 0.8245 - val_accuracy: 0.7030\n",
      "Epoch 88/100\n",
      "156/156 [==============================] - 1407s 9s/step - loss: 0.8032 - accuracy: 0.7060 - val_loss: 0.7835 - val_accuracy: 0.7253\n",
      "Epoch 89/100\n",
      "156/156 [==============================] - 1343s 9s/step - loss: 0.7900 - accuracy: 0.7129 - val_loss: 0.7217 - val_accuracy: 0.7556\n",
      "Epoch 90/100\n",
      "156/156 [==============================] - 1169s 7s/step - loss: 0.7916 - accuracy: 0.7101 - val_loss: 0.7730 - val_accuracy: 0.7374\n",
      "Epoch 91/100\n",
      "156/156 [==============================] - 1075s 7s/step - loss: 0.7815 - accuracy: 0.7139 - val_loss: 0.7831 - val_accuracy: 0.7242\n",
      "Epoch 92/100\n",
      "156/156 [==============================] - 1049s 7s/step - loss: 0.7730 - accuracy: 0.7196 - val_loss: 0.7540 - val_accuracy: 0.7404\n",
      "Epoch 93/100\n",
      "156/156 [==============================] - 1324s 8s/step - loss: 0.7706 - accuracy: 0.7180 - val_loss: 0.7845 - val_accuracy: 0.7273\n",
      "Epoch 94/100\n",
      "156/156 [==============================] - 1346s 9s/step - loss: 0.7759 - accuracy: 0.7136 - val_loss: 0.7481 - val_accuracy: 0.7485\n",
      "Epoch 95/100\n",
      "156/156 [==============================] - 1269s 8s/step - loss: 0.7815 - accuracy: 0.7167 - val_loss: 0.7333 - val_accuracy: 0.7424\n",
      "Epoch 96/100\n",
      "156/156 [==============================] - 942s 6s/step - loss: 0.7733 - accuracy: 0.7214 - val_loss: 0.7691 - val_accuracy: 0.7313\n",
      "Epoch 97/100\n",
      "156/156 [==============================] - 938s 6s/step - loss: 0.7735 - accuracy: 0.7191 - val_loss: 0.7639 - val_accuracy: 0.7253\n",
      "Epoch 98/100\n",
      "156/156 [==============================] - 936s 6s/step - loss: 0.7807 - accuracy: 0.7087 - val_loss: 0.7381 - val_accuracy: 0.7414\n",
      "Epoch 99/100\n",
      "156/156 [==============================] - 940s 6s/step - loss: 0.7637 - accuracy: 0.7207 - val_loss: 0.7314 - val_accuracy: 0.7455\n",
      "Epoch 100/100\n",
      "156/156 [==============================] - 937s 6s/step - loss: 0.7540 - accuracy: 0.7246 - val_loss: 0.7744 - val_accuracy: 0.7253\n"
     ]
    },
    {
     "data": {
      "text/plain": [
       "<keras.callbacks.History at 0x2db23c8e0>"
      ]
     },
     "execution_count": 54,
     "metadata": {},
     "output_type": "execute_result"
    }
   ],
   "source": [
    "print(\"Training ...\")\n",
    "batch_size = 45 # num of training examples per minibatch\n",
    "num_epochs = 100\n",
    "model.fit(\n",
    "    X_train_mfcc,\n",
    "    Y_one_hot_train,\n",
    "    validation_data=(X_val_mfcc, Y_one_hot_val),\n",
    "    batch_size=batch_size,\n",
    "    epochs=num_epochs,\n",
    ")"
   ]
  },
  {
   "cell_type": "code",
   "execution_count": 56,
   "metadata": {},
   "outputs": [],
   "source": [
    "intermediate_layer_model = Model(inputs=model.input,\n",
    "                                outputs=model.layers[1].output)"
   ]
  },
  {
   "cell_type": "code",
   "execution_count": 57,
   "metadata": {},
   "outputs": [],
   "source": [
    "intermediate_output_train = intermediate_layer_model(X_train_mfcc)\n",
    "intermediate_output_test = intermediate_layer_model(X_test_mfcc)"
   ]
  },
  {
   "cell_type": "code",
   "execution_count": 29,
   "metadata": {},
   "outputs": [
    {
     "data": {
      "text/plain": [
       "<tf.Tensor: shape=(6993, 128), dtype=float32, numpy=\n",
       "array([[-0.35781944,  0.21986091,  0.1722945 , ..., -0.85456884,\n",
       "        -0.13116637, -0.35006228],\n",
       "       [-0.504984  ,  0.5701027 , -0.79829603, ...,  0.33804315,\n",
       "         0.8401165 ,  0.20764615],\n",
       "       [-0.3917637 ,  0.16677797, -0.7028903 , ..., -0.5731049 ,\n",
       "        -0.60293615, -0.21509579],\n",
       "       ...,\n",
       "       [ 0.10333675,  0.00540473,  0.06964578, ..., -0.8635662 ,\n",
       "        -0.65468854, -0.11592299],\n",
       "       [-0.5058193 ,  0.8658492 , -0.8249905 , ..., -0.7030094 ,\n",
       "         0.61233455, -0.37641576],\n",
       "       [-0.05177631, -0.11660072,  0.10720584, ...,  0.17193757,\n",
       "        -0.48128134,  0.17846112]], dtype=float32)>"
      ]
     },
     "execution_count": 29,
     "metadata": {},
     "output_type": "execute_result"
    }
   ],
   "source": [
    "intermediate_output_train"
   ]
  },
  {
   "cell_type": "code",
   "execution_count": 58,
   "metadata": {},
   "outputs": [
    {
     "data": {
      "text/plain": [
       "0.7324364723467862"
      ]
     },
     "execution_count": 58,
     "metadata": {},
     "output_type": "execute_result"
    }
   ],
   "source": [
    "sknn.SVM_score(intermediate_output_train, Y_train_mfcc, intermediate_output_test, Y_test_mfcc)"
   ]
  },
  {
   "cell_type": "code",
   "execution_count": 15,
   "metadata": {},
   "outputs": [
    {
     "name": "stdout",
     "output_type": "stream",
     "text": [
      "INFO:tensorflow:Assets written to: LSTM_model/assets\n"
     ]
    }
   ],
   "source": [
    "model.save('LSTM_model')"
   ]
  },
  {
   "cell_type": "code",
   "execution_count": 55,
   "metadata": {},
   "outputs": [
    {
     "name": "stdout",
     "output_type": "stream",
     "text": [
      "INFO:tensorflow:Assets written to: LSTM_model_Nov22.h/assets\n"
     ]
    }
   ],
   "source": [
    "model.save('LSTM_model_Nov22.h')"
   ]
  },
  {
   "cell_type": "code",
   "execution_count": 148,
   "metadata": {},
   "outputs": [
    {
     "name": "stderr",
     "output_type": "stream",
     "text": [
      "2022-11-03 22:04:54.423506: I tensorflow/core/grappler/optimizers/custom_graph_optimizer_registry.cc:114] Plugin optimizer for device_type GPU is enabled.\n",
      "2022-11-03 22:04:54.478340: I tensorflow/core/grappler/optimizers/custom_graph_optimizer_registry.cc:114] Plugin optimizer for device_type GPU is enabled.\n"
     ]
    },
    {
     "name": "stdout",
     "output_type": "stream",
     "text": [
      "10/10 - 0s - loss: 1.0753 - accuracy: 0.1767 - 447ms/epoch - 45ms/step\n"
     ]
    }
   ],
   "source": [
    "test_loss, test_acc = model.evaluate(X_test_zcr, Y_test_zcr, verbose=2)"
   ]
  },
  {
   "cell_type": "code",
   "execution_count": 21,
   "metadata": {},
   "outputs": [
    {
     "name": "stderr",
     "output_type": "stream",
     "text": [
      "2022-11-09 14:31:26.849565: I tensorflow/core/grappler/optimizers/custom_graph_optimizer_registry.cc:114] Plugin optimizer for device_type GPU is enabled.\n"
     ]
    },
    {
     "name": "stdout",
     "output_type": "stream",
     "text": [
      "10/10 - 4s - loss: 1.5619 - accuracy: 0.4600 - 4s/epoch - 383ms/step\n"
     ]
    }
   ],
   "source": [
    "test_loss, test_acc = model.evaluate(X_test_mfcc, Y_one_hot_test, verbose=2)"
   ]
  },
  {
   "cell_type": "code",
   "execution_count": null,
   "metadata": {},
   "outputs": [
    {
     "name": "stderr",
     "output_type": "stream",
     "text": [
      "2022-11-04 03:45:55.908381: I tensorflow/core/grappler/optimizers/custom_graph_optimizer_registry.cc:114] Plugin optimizer for device_type GPU is enabled.\n",
      "2022-11-04 03:45:56.003917: I tensorflow/core/grappler/optimizers/custom_graph_optimizer_registry.cc:114] Plugin optimizer for device_type GPU is enabled.\n",
      "2022-11-04 03:45:56.101725: I tensorflow/core/grappler/optimizers/custom_graph_optimizer_registry.cc:114] Plugin optimizer for device_type GPU is enabled.\n"
     ]
    },
    {
     "name": "stdout",
     "output_type": "stream",
     "text": [
      "10/10 - 1s - loss: 0.8142 - accuracy: 0.5967 - 943ms/epoch - 94ms/step\n"
     ]
    },
    {
     "ename": "",
     "evalue": "",
     "output_type": "error",
     "traceback": [
      "\u001b[1;31mnotebook controller is DISPOSED. \n",
      "\u001b[1;31mView Jupyter <a href='command:jupyter.viewOutput'>log</a> for further details."
     ]
    }
   ],
   "source": [
    "test_loss, test_acc = model.evaluate(X_test_zcr_mfcc, Y_test_zcr_mfcc, verbose=2)"
   ]
  },
  {
   "cell_type": "code",
   "execution_count": null,
   "metadata": {},
   "outputs": [],
   "source": []
  }
 ],
 "metadata": {
  "kernelspec": {
   "display_name": "Python 3.10.8 ('venv': venv)",
   "language": "python",
   "name": "python3"
  },
  "language_info": {
   "codemirror_mode": {
    "name": "ipython",
    "version": 3
   },
   "file_extension": ".py",
   "mimetype": "text/x-python",
   "name": "python",
   "nbconvert_exporter": "python",
   "pygments_lexer": "ipython3",
   "version": "3.10.8"
  },
  "orig_nbformat": 4,
  "vscode": {
   "interpreter": {
    "hash": "5d9b387c0d1841df99e59be80f601d0d665fbff861407db37cec5394f1e10dde"
   }
  }
 },
 "nbformat": 4,
 "nbformat_minor": 2
}
