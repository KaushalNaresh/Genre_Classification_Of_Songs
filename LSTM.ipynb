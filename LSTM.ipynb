{
 "cells": [
  {
   "cell_type": "code",
   "execution_count": 10,
   "metadata": {},
   "outputs": [],
   "source": [
    "## The input shape of the LSTM layer is 700 × 30, 700 × 60 or 700 × 90 \n",
    "## where 700 is the amount of music\n",
    "## The output of the LSTM layer is 700 × 128, 128 is the number of units in LSTM layer\n",
    "## Additionally, the activation functions used in this project are the hyperbolic tangen\n",
    "## and sigmoid"
   ]
  },
  {
   "cell_type": "code",
   "execution_count": 1,
   "metadata": {},
   "outputs": [
    {
     "name": "stdout",
     "output_type": "stream",
     "text": [
      "importing Jupyter notebook from SVM_KNN.ipynb\n",
      "Accuracy on SVM for ZCR: 23.67%\n",
      "Accuracy on SVM for MFCC: 64.33%\n",
      "Accuracy on SVM for ZCR and MFCC: 62.00%\n",
      "Accuracy on KNN for ZCR: 19.00%\n",
      "Accuracy on KNN for MFCC: 31.67%\n",
      "Accuracy on KNN for ZCR and MFCC: 31.67%\n"
     ]
    }
   ],
   "source": [
    "from keras.models import Sequential\n",
    "import tensorflow as tf\n",
    "from tensorflow.keras.layers import LSTM\n",
    "from keras.layers import Bidirectional\n",
    "from tensorflow.keras.layers import Dense, Input\n",
    "from tensorflow.keras import regularizers\n",
    "import pandas as pd\n",
    "import sklearn as skl\n",
    "import sklearn.model_selection as skm\n",
    "from keras.optimizers import Adam\n",
    "from keras.models import Model\n",
    "import numpy as np\n",
    "from keras import backend as K\n",
    "import import_ipynb\n",
    "import SVM_KNN as sknn"
   ]
  },
  {
   "cell_type": "code",
   "execution_count": 2,
   "metadata": {},
   "outputs": [],
   "source": [
    "GTZAN_DIR = '/Users/nkkaushal/Documents/Fall22/ECS_271/Project/dataset/GTZAN_data/'\n",
    "features = pd.read_csv(GTZAN_DIR+\"features.csv\")"
   ]
  },
  {
   "cell_type": "code",
   "execution_count": 3,
   "metadata": {},
   "outputs": [],
   "source": [
    "def get_test_train_split(X, Y):\n",
    "\n",
    "    scaler = skl.preprocessing.StandardScaler(copy=False)\n",
    "    scaler.fit_transform(X)\n",
    "    \n",
    "    X_train, X_test, Y_train, Y_test = skm.train_test_split(X, Y, test_size=0.3, random_state=42)\n",
    "\n",
    "    # Be sure training samples are shuffled.\n",
    "    X_train, Y_train = skl.utils.shuffle(X_train, Y_train, random_state=42)\n",
    "    X_test, Y_test = skl.utils.shuffle(X_test, Y_test, random_state=42)\n",
    "\n",
    "    return [X_train, X_test, Y_train, Y_test]"
   ]
  },
  {
   "cell_type": "code",
   "execution_count": 4,
   "metadata": {},
   "outputs": [],
   "source": [
    "X_ZCR = features[['ZRC' + str(ind) for ind in range(1,31)]]\n",
    "X_MFCC = features[['MFCC' + str(ind) for ind in range(1,61)]]\n",
    "X_ZCR_MFCC = features[['ZRC' + str(ind) for ind in range(1,31)]+['MFCC' + str(ind) for ind in range(1,61)]]\n",
    "Y = features['label']\n",
    "\n",
    "genre_list = Y.unique().tolist()"
   ]
  },
  {
   "cell_type": "code",
   "execution_count": 5,
   "metadata": {},
   "outputs": [],
   "source": [
    "def one_hot(Y_genre_strings):\n",
    "    y_one_hot = np.zeros((Y_genre_strings.shape[0], len(genre_list)))\n",
    "    for i, genre_string in enumerate(Y_genre_strings):\n",
    "        index = genre_list.index(genre_string)\n",
    "        y_one_hot[i, index] = 1\n",
    "    return y_one_hot"
   ]
  },
  {
   "cell_type": "code",
   "execution_count": 35,
   "metadata": {},
   "outputs": [],
   "source": [
    "Y_one_hot = one_hot(Y)\n",
    "X_train_zcr, X_test_zcr, Y_train_zcr, Y_test_zcr = get_test_train_split(X_ZCR, Y_one_hot)\n",
    "X_train_zcr = X_train_zcr.to_numpy().reshape((X_train_zcr.shape[0], X_train_zcr.shape[1], 1))\n",
    "X_test_zcr = X_test_zcr.to_numpy().reshape((X_test_zcr.shape[0], X_test_zcr.shape[1], 1))\n",
    "# Y_train_zcr = Y_train_zcr.reshape((Y_train_zcr.shape[0], Y_train_zcr.shape[1], 1))\n",
    "input_shape = (X_train_zcr.shape[1], X_train_zcr.shape[2])"
   ]
  },
  {
   "cell_type": "code",
   "execution_count": 6,
   "metadata": {},
   "outputs": [],
   "source": [
    "# Y_one_hot = one_hot(Y)\n",
    "X_train_mfcc, X_test_mfcc, Y_train_mfcc, Y_test_mfcc = get_test_train_split(X_MFCC, Y)\n",
    "Y_one_hot_train = one_hot(Y_train_mfcc)\n",
    "Y_one_hot_test = one_hot(Y_test_mfcc)\n",
    "X_train_mfcc = X_train_mfcc.to_numpy().reshape((X_train_mfcc.shape[0], X_train_mfcc.shape[1], 1))\n",
    "X_test_mfcc = X_test_mfcc.to_numpy().reshape((X_test_mfcc.shape[0], X_test_mfcc.shape[1], 1))\n",
    "# Y_train_zcr = Y_train_zcr.reshape((Y_train_zcr.shape[0], Y_train_zcr.shape[1], 1))\n",
    "input_shape = (X_train_mfcc.shape[1], X_train_mfcc.shape[2])"
   ]
  },
  {
   "cell_type": "code",
   "execution_count": 274,
   "metadata": {},
   "outputs": [],
   "source": [
    "Y_one_hot = one_hot(Y)\n",
    "X_train_zcr_mfcc, X_test_zcr_mfcc, Y_train_zcr_mfcc, Y_test_zcr_mfcc = get_test_train_split(X_ZCR_MFCC, Y_one_hot)\n",
    "X_train_zcr_mfcc = X_train_zcr_mfcc.to_numpy().reshape((X_train_zcr_mfcc.shape[0], 1, X_train_zcr_mfcc.shape[1]))\n",
    "X_test_zcr_mfcc = X_test_zcr_mfcc.to_numpy().reshape((X_test_zcr_mfcc.shape[0], 1, X_test_zcr_mfcc.shape[1]))\n",
    "# Y_train_zcr = Y_train_zcr.reshape((Y_train_zcr.shape[0], Y_train_zcr.shape[1], 1))\n",
    "input_shape = (X_train_zcr_mfcc.shape[1], X_train_zcr_mfcc.shape[2])"
   ]
  },
  {
   "cell_type": "code",
   "execution_count": 110,
   "metadata": {},
   "outputs": [
    {
     "data": {
      "text/plain": [
       "(700, 10)"
      ]
     },
     "execution_count": 110,
     "metadata": {},
     "output_type": "execute_result"
    }
   ],
   "source": [
    "Y_train_zcr.shape"
   ]
  },
  {
   "cell_type": "code",
   "execution_count": 13,
   "metadata": {},
   "outputs": [
    {
     "name": "stdout",
     "output_type": "stream",
     "text": [
      "WARNING:tensorflow:Layer lstm_3 will not use cuDNN kernels since it doesn't meet the criteria. It will use a generic GPU kernel as fallback when running on GPU.\n"
     ]
    }
   ],
   "source": [
    "inputs = Input(input_shape)\n",
    "# lstm1 = LSTM(units=64, return_sequences=True)(inputs)\n",
    "lstm = LSTM(units=128, return_sequences=False, dropout=0.05, recurrent_dropout=0.35)(inputs)\n",
    "# lstm1 = LSTM(units=128, activation = 'relu', return_sequences=False)(lstm)\n",
    "dense = Dense(units=10, activation=\"softmax\")(lstm)\n",
    "\n",
    "model = Model(inputs, dense)"
   ]
  },
  {
   "cell_type": "code",
   "execution_count": 14,
   "metadata": {},
   "outputs": [
    {
     "name": "stdout",
     "output_type": "stream",
     "text": [
      "Model: \"model_3\"\n",
      "_________________________________________________________________\n",
      " Layer (type)                Output Shape              Param #   \n",
      "=================================================================\n",
      " input_4 (InputLayer)        [(None, 60, 1)]           0         \n",
      "                                                                 \n",
      " lstm_3 (LSTM)               (None, 128)               66560     \n",
      "                                                                 \n",
      " dense_3 (Dense)             (None, 10)                1290      \n",
      "                                                                 \n",
      "=================================================================\n",
      "Total params: 67,850\n",
      "Trainable params: 67,850\n",
      "Non-trainable params: 0\n",
      "_________________________________________________________________\n"
     ]
    }
   ],
   "source": [
    "opt = Adam()\n",
    "model.compile(loss=\"categorical_crossentropy\", optimizer=opt, metrics=[\"accuracy\"])\n",
    "model.summary()"
   ]
  },
  {
   "cell_type": "code",
   "execution_count": 15,
   "metadata": {},
   "outputs": [
    {
     "name": "stdout",
     "output_type": "stream",
     "text": [
      "Training ...\n",
      "Epoch 1/100\n"
     ]
    },
    {
     "name": "stderr",
     "output_type": "stream",
     "text": [
      "2022-11-09 03:14:01.422608: W tensorflow/core/platform/profile_utils/cpu_utils.cc:128] Failed to get CPU frequency: 0 Hz\n",
      "2022-11-09 03:14:02.347798: I tensorflow/core/grappler/optimizers/custom_graph_optimizer_registry.cc:114] Plugin optimizer for device_type GPU is enabled.\n"
     ]
    },
    {
     "name": "stdout",
     "output_type": "stream",
     "text": [
      "16/16 [==============================] - 105s 6s/step - loss: 2.2500 - accuracy: 0.1214\n",
      "Epoch 2/100\n",
      "16/16 [==============================] - 102s 6s/step - loss: 2.1007 - accuracy: 0.2043\n",
      "Epoch 3/100\n",
      "16/16 [==============================] - 101s 6s/step - loss: 2.0456 - accuracy: 0.2443\n",
      "Epoch 4/100\n",
      "16/16 [==============================] - 102s 6s/step - loss: 1.9688 - accuracy: 0.2529\n",
      "Epoch 5/100\n",
      "16/16 [==============================] - 104s 7s/step - loss: 1.9361 - accuracy: 0.2857\n",
      "Epoch 6/100\n",
      "16/16 [==============================] - 101s 6s/step - loss: 1.8991 - accuracy: 0.3114\n",
      "Epoch 7/100\n",
      "16/16 [==============================] - 100s 6s/step - loss: 1.8472 - accuracy: 0.3271\n",
      "Epoch 8/100\n",
      "16/16 [==============================] - 102s 6s/step - loss: 1.8341 - accuracy: 0.3371\n",
      "Epoch 9/100\n",
      "16/16 [==============================] - 103s 6s/step - loss: 1.8023 - accuracy: 0.3343\n",
      "Epoch 10/100\n",
      "16/16 [==============================] - 100s 6s/step - loss: 1.7758 - accuracy: 0.3600\n",
      "Epoch 11/100\n",
      "16/16 [==============================] - 101s 6s/step - loss: 1.7920 - accuracy: 0.3614\n",
      "Epoch 12/100\n",
      "16/16 [==============================] - 101s 6s/step - loss: 1.7322 - accuracy: 0.3843\n",
      "Epoch 13/100\n",
      "16/16 [==============================] - 103s 6s/step - loss: 1.7438 - accuracy: 0.3714\n",
      "Epoch 14/100\n",
      "16/16 [==============================] - 101s 6s/step - loss: 1.7457 - accuracy: 0.3686\n",
      "Epoch 15/100\n",
      "16/16 [==============================] - 97s 6s/step - loss: 1.7019 - accuracy: 0.3686\n",
      "Epoch 16/100\n",
      "16/16 [==============================] - 103s 6s/step - loss: 1.7045 - accuracy: 0.3957\n",
      "Epoch 17/100\n",
      "16/16 [==============================] - 106s 7s/step - loss: 1.6950 - accuracy: 0.3986\n",
      "Epoch 18/100\n",
      "16/16 [==============================] - 102s 6s/step - loss: 1.6535 - accuracy: 0.4171\n",
      "Epoch 19/100\n",
      "16/16 [==============================] - 102s 6s/step - loss: 1.6718 - accuracy: 0.3986\n",
      "Epoch 20/100\n",
      "16/16 [==============================] - 99s 6s/step - loss: 1.6246 - accuracy: 0.4086\n",
      "Epoch 21/100\n",
      "16/16 [==============================] - 100s 6s/step - loss: 1.6599 - accuracy: 0.4071\n",
      "Epoch 22/100\n",
      "16/16 [==============================] - 99s 6s/step - loss: 1.6653 - accuracy: 0.4100\n",
      "Epoch 23/100\n",
      "16/16 [==============================] - 100s 6s/step - loss: 1.6456 - accuracy: 0.4043\n",
      "Epoch 24/100\n",
      "16/16 [==============================] - 103s 6s/step - loss: 1.6026 - accuracy: 0.4300\n",
      "Epoch 25/100\n",
      "16/16 [==============================] - 99s 6s/step - loss: 1.6143 - accuracy: 0.4171\n",
      "Epoch 26/100\n",
      "16/16 [==============================] - 98s 6s/step - loss: 1.6256 - accuracy: 0.4200\n",
      "Epoch 27/100\n",
      "16/16 [==============================] - 98s 6s/step - loss: 1.6158 - accuracy: 0.4043\n",
      "Epoch 28/100\n",
      "16/16 [==============================] - 97s 6s/step - loss: 1.5873 - accuracy: 0.4257\n",
      "Epoch 29/100\n",
      "16/16 [==============================] - 96s 6s/step - loss: 1.5822 - accuracy: 0.4143\n",
      "Epoch 30/100\n",
      "16/16 [==============================] - 96s 6s/step - loss: 1.5890 - accuracy: 0.4257\n",
      "Epoch 31/100\n",
      "16/16 [==============================] - 97s 6s/step - loss: 1.5576 - accuracy: 0.4414\n",
      "Epoch 32/100\n",
      "16/16 [==============================] - 96s 6s/step - loss: 1.5362 - accuracy: 0.4600\n",
      "Epoch 33/100\n",
      "16/16 [==============================] - 96s 6s/step - loss: 1.5495 - accuracy: 0.4300\n",
      "Epoch 34/100\n",
      "16/16 [==============================] - 96s 6s/step - loss: 1.5607 - accuracy: 0.4357\n",
      "Epoch 35/100\n",
      "16/16 [==============================] - 95s 6s/step - loss: 1.5166 - accuracy: 0.4486\n",
      "Epoch 36/100\n",
      "16/16 [==============================] - 95s 6s/step - loss: 1.5688 - accuracy: 0.4329\n",
      "Epoch 37/100\n",
      "16/16 [==============================] - 96s 6s/step - loss: 1.5316 - accuracy: 0.4557\n",
      "Epoch 38/100\n",
      "16/16 [==============================] - 9312s 620s/step - loss: 1.5128 - accuracy: 0.4443\n",
      "Epoch 39/100\n",
      "16/16 [==============================] - 955s 6s/step - loss: 1.5506 - accuracy: 0.4243\n",
      "Epoch 40/100\n",
      "16/16 [==============================] - 96s 6s/step - loss: 1.5406 - accuracy: 0.4300\n",
      "Epoch 41/100\n",
      "16/16 [==============================] - 96s 6s/step - loss: 1.5132 - accuracy: 0.4671\n",
      "Epoch 42/100\n",
      "16/16 [==============================] - 96s 6s/step - loss: 1.5134 - accuracy: 0.4543\n",
      "Epoch 43/100\n",
      "16/16 [==============================] - 96s 6s/step - loss: 1.4818 - accuracy: 0.4714\n",
      "Epoch 44/100\n",
      "16/16 [==============================] - 96s 6s/step - loss: 1.5255 - accuracy: 0.4600\n",
      "Epoch 45/100\n",
      "16/16 [==============================] - 96s 6s/step - loss: 1.4514 - accuracy: 0.4600\n",
      "Epoch 46/100\n",
      "16/16 [==============================] - 97s 6s/step - loss: 1.4831 - accuracy: 0.4600\n",
      "Epoch 47/100\n",
      "16/16 [==============================] - 96s 6s/step - loss: 1.4518 - accuracy: 0.4600\n",
      "Epoch 48/100\n",
      "16/16 [==============================] - 5217s 347s/step - loss: 1.4695 - accuracy: 0.4700\n",
      "Epoch 49/100\n",
      "16/16 [==============================] - 12508s 763s/step - loss: 1.4694 - accuracy: 0.4614\n",
      "Epoch 50/100\n",
      "16/16 [==============================] - 106s 7s/step - loss: 1.4522 - accuracy: 0.4829\n",
      "Epoch 51/100\n",
      "16/16 [==============================] - 103s 6s/step - loss: 1.4662 - accuracy: 0.4714\n",
      "Epoch 52/100\n",
      "16/16 [==============================] - 102s 6s/step - loss: 1.4448 - accuracy: 0.4771\n",
      "Epoch 53/100\n",
      "16/16 [==============================] - 103s 6s/step - loss: 1.4792 - accuracy: 0.4543\n",
      "Epoch 54/100\n",
      "16/16 [==============================] - 103s 6s/step - loss: 1.4319 - accuracy: 0.4729\n",
      "Epoch 55/100\n",
      "16/16 [==============================] - 104s 6s/step - loss: 1.4367 - accuracy: 0.4857\n",
      "Epoch 56/100\n",
      "16/16 [==============================] - 103s 6s/step - loss: 1.4495 - accuracy: 0.4886\n",
      "Epoch 57/100\n",
      "16/16 [==============================] - 103s 6s/step - loss: 1.4170 - accuracy: 0.4786\n",
      "Epoch 58/100\n",
      "16/16 [==============================] - 103s 6s/step - loss: 1.4141 - accuracy: 0.4857\n",
      "Epoch 59/100\n",
      "16/16 [==============================] - 103s 6s/step - loss: 1.4094 - accuracy: 0.4843\n",
      "Epoch 60/100\n",
      "16/16 [==============================] - 103s 6s/step - loss: 1.4165 - accuracy: 0.4814\n",
      "Epoch 61/100\n",
      "16/16 [==============================] - 103s 6s/step - loss: 1.3952 - accuracy: 0.4871\n",
      "Epoch 62/100\n",
      "16/16 [==============================] - 446s 29s/step - loss: 1.4297 - accuracy: 0.4700\n",
      "Epoch 63/100\n",
      "16/16 [==============================] - 96s 6s/step - loss: 1.3892 - accuracy: 0.4886\n",
      "Epoch 64/100\n",
      "16/16 [==============================] - 96s 6s/step - loss: 1.4037 - accuracy: 0.4829\n",
      "Epoch 65/100\n",
      "16/16 [==============================] - 96s 6s/step - loss: 1.4294 - accuracy: 0.4829\n",
      "Epoch 66/100\n",
      "16/16 [==============================] - 96s 6s/step - loss: 1.4393 - accuracy: 0.4871\n",
      "Epoch 67/100\n",
      "16/16 [==============================] - 96s 6s/step - loss: 1.3809 - accuracy: 0.5114\n",
      "Epoch 68/100\n",
      "16/16 [==============================] - 96s 6s/step - loss: 1.3863 - accuracy: 0.4914\n",
      "Epoch 69/100\n",
      "16/16 [==============================] - 96s 6s/step - loss: 1.3540 - accuracy: 0.4900\n",
      "Epoch 70/100\n",
      "16/16 [==============================] - 96s 6s/step - loss: 1.3393 - accuracy: 0.4971\n",
      "Epoch 71/100\n",
      "16/16 [==============================] - 166s 11s/step - loss: 1.3593 - accuracy: 0.5071\n",
      "Epoch 72/100\n",
      "16/16 [==============================] - 104s 7s/step - loss: 1.3942 - accuracy: 0.4943\n",
      "Epoch 73/100\n",
      "16/16 [==============================] - 101s 6s/step - loss: 1.3419 - accuracy: 0.5214\n",
      "Epoch 74/100\n",
      "16/16 [==============================] - 98s 6s/step - loss: 1.3435 - accuracy: 0.5114\n",
      "Epoch 75/100\n",
      "16/16 [==============================] - 104s 7s/step - loss: 1.3364 - accuracy: 0.5229\n",
      "Epoch 76/100\n",
      "16/16 [==============================] - 98s 6s/step - loss: 1.3791 - accuracy: 0.5029\n",
      "Epoch 77/100\n",
      "16/16 [==============================] - 96s 6s/step - loss: 1.3738 - accuracy: 0.5057\n",
      "Epoch 78/100\n",
      "16/16 [==============================] - 96s 6s/step - loss: 1.3550 - accuracy: 0.5043\n",
      "Epoch 79/100\n",
      "16/16 [==============================] - 99s 6s/step - loss: 1.3497 - accuracy: 0.5214\n",
      "Epoch 80/100\n",
      "16/16 [==============================] - 95s 6s/step - loss: 1.3232 - accuracy: 0.5143\n",
      "Epoch 81/100\n",
      "16/16 [==============================] - 101s 6s/step - loss: 1.3286 - accuracy: 0.5057\n",
      "Epoch 82/100\n",
      "16/16 [==============================] - 101s 6s/step - loss: 1.3269 - accuracy: 0.5229\n",
      "Epoch 83/100\n",
      "16/16 [==============================] - 98s 6s/step - loss: 1.2950 - accuracy: 0.5300\n",
      "Epoch 84/100\n",
      "16/16 [==============================] - 96s 6s/step - loss: 1.3075 - accuracy: 0.5157\n",
      "Epoch 85/100\n",
      "16/16 [==============================] - 126s 8s/step - loss: 1.3045 - accuracy: 0.5400\n",
      "Epoch 86/100\n",
      "16/16 [==============================] - 134s 8s/step - loss: 1.2953 - accuracy: 0.5300\n",
      "Epoch 87/100\n",
      "16/16 [==============================] - 141s 9s/step - loss: 1.2927 - accuracy: 0.5257\n",
      "Epoch 88/100\n",
      "16/16 [==============================] - 140s 9s/step - loss: 1.3278 - accuracy: 0.5200\n",
      "Epoch 89/100\n",
      "16/16 [==============================] - 139s 9s/step - loss: 1.2872 - accuracy: 0.5400\n",
      "Epoch 90/100\n",
      "16/16 [==============================] - 133s 8s/step - loss: 1.2911 - accuracy: 0.5214\n",
      "Epoch 91/100\n",
      "16/16 [==============================] - 140s 9s/step - loss: 1.2369 - accuracy: 0.5729\n",
      "Epoch 92/100\n",
      "16/16 [==============================] - 134s 8s/step - loss: 1.2594 - accuracy: 0.5229\n",
      "Epoch 93/100\n",
      "16/16 [==============================] - 138s 9s/step - loss: 1.2632 - accuracy: 0.5329\n",
      "Epoch 94/100\n",
      "16/16 [==============================] - 136s 9s/step - loss: 1.2193 - accuracy: 0.5614\n",
      "Epoch 95/100\n",
      "16/16 [==============================] - 135s 8s/step - loss: 1.2089 - accuracy: 0.5571\n",
      "Epoch 96/100\n",
      "16/16 [==============================] - 134s 8s/step - loss: 1.2208 - accuracy: 0.5514\n",
      "Epoch 97/100\n",
      "16/16 [==============================] - 138s 9s/step - loss: 1.2432 - accuracy: 0.5457\n",
      "Epoch 98/100\n",
      "16/16 [==============================] - 134s 8s/step - loss: 1.2421 - accuracy: 0.5543\n",
      "Epoch 99/100\n",
      "16/16 [==============================] - 136s 9s/step - loss: 1.2199 - accuracy: 0.5657\n",
      "Epoch 100/100\n",
      "16/16 [==============================] - 138s 9s/step - loss: 1.2338 - accuracy: 0.5514\n"
     ]
    },
    {
     "data": {
      "text/plain": [
       "<keras.callbacks.History at 0x2983c61a0>"
      ]
     },
     "execution_count": 15,
     "metadata": {},
     "output_type": "execute_result"
    }
   ],
   "source": [
    "print(\"Training ...\")\n",
    "batch_size = 45 # num of training examples per minibatch\n",
    "num_epochs = 100\n",
    "model.fit(\n",
    "    X_train_mfcc,\n",
    "    Y_one_hot_train,\n",
    "    batch_size=batch_size,\n",
    "    epochs=num_epochs,\n",
    ")"
   ]
  },
  {
   "cell_type": "code",
   "execution_count": 16,
   "metadata": {},
   "outputs": [],
   "source": [
    "intermediate_layer_model = Model(inputs=model.input,\n",
    "                                outputs=model.layers[1].output)\n"
   ]
  },
  {
   "cell_type": "code",
   "execution_count": 17,
   "metadata": {},
   "outputs": [],
   "source": [
    "intermediate_output_train = intermediate_layer_model(X_train_mfcc)\n",
    "intermediate_output_test = intermediate_layer_model(X_test_mfcc)"
   ]
  },
  {
   "cell_type": "code",
   "execution_count": 18,
   "metadata": {},
   "outputs": [
    {
     "data": {
      "text/plain": [
       "<tf.Tensor: shape=(700, 128), dtype=float32, numpy=\n",
       "array([[-0.3359743 , -0.46362358, -0.34727016, ...,  0.10481954,\n",
       "        -0.34225914,  0.3109142 ],\n",
       "       [-0.57793427, -0.48364237, -0.6238312 , ...,  0.08349159,\n",
       "        -0.35375476,  0.43667102],\n",
       "       [ 0.14967065, -0.7540211 , -0.2973293 , ...,  0.05854022,\n",
       "        -0.26546338,  0.2438011 ],\n",
       "       ...,\n",
       "       [ 0.06634715,  0.0732023 ,  0.17573348, ...,  0.30999398,\n",
       "        -0.6505117 ,  0.2662749 ],\n",
       "       [-0.5882483 , -0.12079439, -0.12608057, ..., -0.04981716,\n",
       "         0.08654279, -0.22126392],\n",
       "       [-0.81755304, -0.11777642, -0.80095035, ...,  0.614314  ,\n",
       "        -0.3023164 , -0.48225915]], dtype=float32)>"
      ]
     },
     "execution_count": 18,
     "metadata": {},
     "output_type": "execute_result"
    }
   ],
   "source": [
    "intermediate_output_train"
   ]
  },
  {
   "cell_type": "code",
   "execution_count": 19,
   "metadata": {},
   "outputs": [
    {
     "data": {
      "text/plain": [
       "0.44666666666666666"
      ]
     },
     "execution_count": 19,
     "metadata": {},
     "output_type": "execute_result"
    }
   ],
   "source": [
    "sknn.SVM_score(intermediate_output_train, Y_train_mfcc, intermediate_output_test, Y_test_mfcc)"
   ]
  },
  {
   "cell_type": "code",
   "execution_count": 148,
   "metadata": {},
   "outputs": [
    {
     "name": "stderr",
     "output_type": "stream",
     "text": [
      "2022-11-03 22:04:54.423506: I tensorflow/core/grappler/optimizers/custom_graph_optimizer_registry.cc:114] Plugin optimizer for device_type GPU is enabled.\n",
      "2022-11-03 22:04:54.478340: I tensorflow/core/grappler/optimizers/custom_graph_optimizer_registry.cc:114] Plugin optimizer for device_type GPU is enabled.\n"
     ]
    },
    {
     "name": "stdout",
     "output_type": "stream",
     "text": [
      "10/10 - 0s - loss: 1.0753 - accuracy: 0.1767 - 447ms/epoch - 45ms/step\n"
     ]
    }
   ],
   "source": [
    "test_loss, test_acc = model.evaluate(X_test_zcr, Y_test_zcr, verbose=2)"
   ]
  },
  {
   "cell_type": "code",
   "execution_count": 21,
   "metadata": {},
   "outputs": [
    {
     "name": "stderr",
     "output_type": "stream",
     "text": [
      "2022-11-09 14:31:26.849565: I tensorflow/core/grappler/optimizers/custom_graph_optimizer_registry.cc:114] Plugin optimizer for device_type GPU is enabled.\n"
     ]
    },
    {
     "name": "stdout",
     "output_type": "stream",
     "text": [
      "10/10 - 4s - loss: 1.5619 - accuracy: 0.4600 - 4s/epoch - 383ms/step\n"
     ]
    }
   ],
   "source": [
    "test_loss, test_acc = model.evaluate(X_test_mfcc, Y_one_hot_test, verbose=2)"
   ]
  },
  {
   "cell_type": "code",
   "execution_count": null,
   "metadata": {},
   "outputs": [
    {
     "name": "stderr",
     "output_type": "stream",
     "text": [
      "2022-11-04 03:45:55.908381: I tensorflow/core/grappler/optimizers/custom_graph_optimizer_registry.cc:114] Plugin optimizer for device_type GPU is enabled.\n",
      "2022-11-04 03:45:56.003917: I tensorflow/core/grappler/optimizers/custom_graph_optimizer_registry.cc:114] Plugin optimizer for device_type GPU is enabled.\n",
      "2022-11-04 03:45:56.101725: I tensorflow/core/grappler/optimizers/custom_graph_optimizer_registry.cc:114] Plugin optimizer for device_type GPU is enabled.\n"
     ]
    },
    {
     "name": "stdout",
     "output_type": "stream",
     "text": [
      "10/10 - 1s - loss: 0.8142 - accuracy: 0.5967 - 943ms/epoch - 94ms/step\n"
     ]
    },
    {
     "ename": "",
     "evalue": "",
     "output_type": "error",
     "traceback": [
      "\u001b[1;31mnotebook controller is DISPOSED. \n",
      "\u001b[1;31mView Jupyter <a href='command:jupyter.viewOutput'>log</a> for further details."
     ]
    }
   ],
   "source": [
    "test_loss, test_acc = model.evaluate(X_test_zcr_mfcc, Y_test_zcr_mfcc, verbose=2)"
   ]
  },
  {
   "cell_type": "code",
   "execution_count": null,
   "metadata": {},
   "outputs": [],
   "source": []
  }
 ],
 "metadata": {
  "kernelspec": {
   "display_name": "Python 3.10.8 ('venv': venv)",
   "language": "python",
   "name": "python3"
  },
  "language_info": {
   "codemirror_mode": {
    "name": "ipython",
    "version": 3
   },
   "file_extension": ".py",
   "mimetype": "text/x-python",
   "name": "python",
   "nbconvert_exporter": "python",
   "pygments_lexer": "ipython3",
   "version": "3.10.8"
  },
  "orig_nbformat": 4,
  "vscode": {
   "interpreter": {
    "hash": "5d9b387c0d1841df99e59be80f601d0d665fbff861407db37cec5394f1e10dde"
   }
  }
 },
 "nbformat": 4,
 "nbformat_minor": 2
}
