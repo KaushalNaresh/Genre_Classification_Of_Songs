{
 "cells": [
  {
   "cell_type": "code",
   "execution_count": 1,
   "metadata": {},
   "outputs": [
    {
     "name": "stderr",
     "output_type": "stream",
     "text": [
      "2022-12-03 08:53:31.938589: I tensorflow/core/platform/cpu_feature_guard.cc:193] This TensorFlow binary is optimized with oneAPI Deep Neural Network Library (oneDNN) to use the following CPU instructions in performance-critical operations:  AVX2 AVX512F AVX512_VNNI FMA\n",
      "To enable them in other operations, rebuild TensorFlow with the appropriate compiler flags.\n"
     ]
    }
   ],
   "source": [
    "from sklearn.preprocessing import normalize\n",
    "import numpy as np\n",
    "import matplotlib.pyplot as plt\n",
    "from tensorflow.keras import layers, models, optimizers, losses\n",
    "from tensorflow.keras.layers.experimental import preprocessing\n",
    "import seaborn as sns\n",
    "import IPython\n",
    "import IPython.display as ipd\n",
    "import tensorflow as tf\n",
    "import librosa as lb\n",
    "import os\n",
    "from tensorflow import keras\n",
    "from sklearn.model_selection import train_test_split"
   ]
  },
  {
   "cell_type": "code",
   "execution_count": 3,
   "metadata": {},
   "outputs": [
    {
     "name": "stdout",
     "output_type": "stream",
     "text": [
      "['pop', 'metal', 'disco', 'blues', 'reggae', 'classical', 'rock', 'hiphop', 'country', 'jazz']\n",
      "pop [1. 0. 0. 0. 0. 0. 0. 0. 0. 0.]\n",
      "metal [0. 1. 0. 0. 0. 0. 0. 0. 0. 0.]\n",
      "disco [0. 0. 1. 0. 0. 0. 0. 0. 0. 0.]\n",
      "blues [0. 0. 0. 1. 0. 0. 0. 0. 0. 0.]\n",
      "reggae [0. 0. 0. 0. 1. 0. 0. 0. 0. 0.]\n",
      "classical [0. 0. 0. 0. 0. 1. 0. 0. 0. 0.]\n",
      "rock [0. 0. 0. 0. 0. 0. 1. 0. 0. 0.]\n",
      "hiphop [0. 0. 0. 0. 0. 0. 0. 1. 0. 0.]\n",
      "country [0. 0. 0. 0. 0. 0. 0. 0. 1. 0.]\n",
      "jazz [0. 0. 0. 0. 0. 0. 0. 0. 0. 1.]\n",
      "files: 1000\n"
     ]
    }
   ],
   "source": [
    "path = '/Users/nkkaushal/Documents/Fall22/ECS_271/Project/dataset/GTZAN_data/genres_original/'\n",
    "labels = [a.name for a in os.scandir(path) if a.is_dir()]\n",
    "indices = [i for i in range(len(labels))]\n",
    "lenlabels = len(labels)\n",
    "onehot = tf.one_hot(indices, lenlabels)\n",
    "onehot_dict = {label:np.array(onehot[i,:]) for i, label in enumerate(labels)}\n",
    "print(labels)\n",
    "for dist_item, dict_value in onehot_dict.items():\n",
    "    print(dist_item, dict_value)\n",
    "total_files = 0\n",
    "for folder in labels:\n",
    "    files = os.listdir(path+folder)\n",
    "    for file in files:\n",
    "        if file.split('.')[-1] == 'wav':\n",
    "            total_files += 1\n",
    "print(f'files: {total_files}')"
   ]
  },
  {
   "cell_type": "code",
   "execution_count": 4,
   "metadata": {},
   "outputs": [],
   "source": [
    "features = 1 \n",
    "NUMBER_OF_FILES = total_files\n",
    "augmented_features = 4\n",
    "slices = 3\n",
    "M = NUMBER_OF_FILES * slices * (augmented_features) "
   ]
  },
  {
   "cell_type": "code",
   "execution_count": 5,
   "metadata": {},
   "outputs": [],
   "source": [
    "def read_sample(file):\n",
    "    y, sr = lb.load(file)\n",
    "    return y, sr\n",
    "\n",
    "\n",
    "def data_augmentation(audio_sample, sr):\n",
    "    \n",
    "    updated_data = list()\n",
    "  \n",
    "    samples = np.array_split(audio_sample, slices)\n",
    "    \n",
    "    for sample_ in samples:\n",
    "       \n",
    "        updated_data.append(sample_)\n",
    "\n",
    "        for n_steps in [4,6]:\n",
    "            updated_data.append(lb.effects.pitch_shift(sample_, sr,n_steps))\n",
    "\n",
    "\n",
    "        white_noise = np.random.randn(len(sample_))\n",
    "        updated_data.append(sample_ + 0.004*white_noise)\n",
    "    \n",
    "    return updated_data\n",
    "\n",
    "def read_audio_files(path, folders):\n",
    "\n",
    "    folder = folders[0]\n",
    "    files = os.listdir(path+folder)\n",
    "    input_len = 0\n",
    "    for file in files:\n",
    "        if file.split('.')[-1] == 'wav':\n",
    "            audio_sample, sr = read_sample(path+folder+'/'+file)\n",
    "            input_len = len(audio_sample) // slices\n",
    "            break\n",
    "        \n",
    "    \n",
    "    return input_len\n",
    "\n",
    "\n",
    "def retrieve_frames(audio_sample, sr):\n",
    "    mel_spect = lb.feature.melspectrogram(audio_sample, sr)\n",
    "    return mel_spect.shape[1]\n",
    "    \n",
    "    \n",
    "def read_dataset(path, folders):\n",
    "    \n",
    "    input_len = read_audio_files(path, folders)\n",
    "    \n",
    "    raw_x = np.zeros((M, input_len))\n",
    "    raw_y = np.zeros((M, 10))\n",
    "    print(raw_x.shape, raw_y.shape)\n",
    "    i = 0\n",
    "    for folder in folders:\n",
    "        print(f\"Reading {folder}\")\n",
    "        files = os.listdir(path+folder)\n",
    "        for file in files:\n",
    "            \n",
    "            if file.split('.')[-1] == 'wav':\n",
    "                audio_sample, sr = read_sample(path+folder+'/'+file)\n",
    "                aug_samples = data_augmentation(audio_sample, sr)\n",
    "                for sample_ in aug_samples: \n",
    "                    \n",
    "                    if len(sample_) > input_len:\n",
    "                        sample_ = sample_[:input_len]\n",
    "                    else:\n",
    "                        sample_ = np.pad(sample_, (0, max(0, input_len - len(sample_))))\n",
    "                    raw_x[i,:] = sample_\n",
    "                    raw_y[i,:] = onehot_dict[folder]\n",
    "                    i += 1\n",
    "    print('Samples read: ', i)\n",
    "    return raw_x, raw_y, sr\n",
    "    \n",
    "def data_prep(raw_x, sr):\n",
    "    \n",
    "    totalcount = retrieve_frames(raw_x[0,:], sr)\n",
    "    X = np.zeros((M, 128, totalcount, features))\n",
    "\n",
    "    for i in range(M):\n",
    "        audio_sample = raw_x[i,:]\n",
    "        spectro = lb.feature.melspectrogram(audio_sample, sr)\n",
    "        spect = lb.power_to_db(spectro, ref=1.0)\n",
    "        normalized_spectogram = normalize(spect)\n",
    "        X[i,:,:,0] = normalized_spectogram\n",
    "\n",
    "                \n",
    "    return X"
   ]
  },
  {
   "cell_type": "code",
   "execution_count": null,
   "metadata": {},
   "outputs": [],
   "source": [
    "raw_x, raw_y, sr = read_dataset(path, labels)\n",
    "np.save('/Users/nkkaushal/Documents/Fall22/ECS_271/Project/dataset/2dcnn_features/X_features', raw_x)\n",
    "np.save('/Users/nkkaushal/Documents/Fall22/ECS_271/Project/dataset/2dcnn_features/Y_features', raw_y)"
   ]
  },
  {
   "cell_type": "code",
   "execution_count": 6,
   "metadata": {},
   "outputs": [],
   "source": [
    "#This code cell is used once we save the prepared data\n",
    "raw_x = np.load('/Users/nkkaushal/Documents/Fall22/ECS_271/Project/dataset/2dcnn_features/X_features.npy')\n",
    "raw_y = np.load('/Users/nkkaushal/Documents/Fall22/ECS_271/Project/dataset/2dcnn_features/Y_features.npy')\n",
    "_,sr = read_sample(path+'blues/'+'blues.00000.wav')"
   ]
  },
  {
   "cell_type": "code",
   "execution_count": null,
   "metadata": {},
   "outputs": [],
   "source": [
    "X = data_prep(raw_x, sr)\n",
    "Y = np.copy(raw_y)"
   ]
  },
  {
   "cell_type": "code",
   "execution_count": null,
   "metadata": {},
   "outputs": [],
   "source": [
    "x_train, x_test_valid, y_train, y_test_valid = train_test_split(X,Y, train_size=0.8)\n",
    "x_val, x_test, y_val, y_test = train_test_split(x_test_valid,y_test_valid, test_size=0.5)"
   ]
  },
  {
   "cell_type": "code",
   "execution_count": 14,
   "metadata": {},
   "outputs": [],
   "source": [
    "input_shape = (X.shape[1], X.shape[2], X.shape[3])\n",
    "inputs = keras.Input(shape=input_shape) \n",
    "x = preprocessing.Resizing(128, 128)(inputs)\n",
    "\n",
    "x = layers.Conv2D(32, 3, activation='relu')(x)\n",
    "x = layers.MaxPooling2D((2,2))(x)\n",
    "x = layers.Dropout(0.2)(x)\n",
    "\n",
    "x = layers.Conv2D(64, 3, activation='relu')(x)\n",
    "x = layers.MaxPooling2D((2,2))(x)\n",
    "x = layers.Dropout(0.2)(x)\n",
    "\n",
    "\n",
    "x = layers.Conv2D(64, 3, activation='relu')(x)\n",
    "x = layers.MaxPooling2D((2,2))(x)\n",
    "x = layers.Dropout(0.2)(x)\n",
    "\n",
    "x = layers.Conv2D(64, 3, activation='relu')(x)\n",
    "x = layers.MaxPooling2D((2,2))(x)\n",
    "x = layers.Dropout(0.2)(x)\n",
    "\n",
    "\n",
    "x = layers.Flatten()(x)\n",
    "x = layers.Dense(64, activation='relu')(x)\n",
    "x = layers.Dropout(0.4)(x)\n",
    "\n",
    "outputs = layers.Dense(10, activation='softmax')(x)"
   ]
  },
  {
   "cell_type": "code",
   "execution_count": 15,
   "metadata": {},
   "outputs": [
    {
     "name": "stdout",
     "output_type": "stream",
     "text": [
      "Model: \"model\"\n",
      "_________________________________________________________________\n",
      " Layer (type)                Output Shape              Param #   \n",
      "=================================================================\n",
      " input_1 (InputLayer)        [(None, 128, 431, 1)]     0         \n",
      "                                                                 \n",
      " resizing (Resizing)         (None, 128, 128, 1)       0         \n",
      "                                                                 \n",
      " conv2d (Conv2D)             (None, 126, 126, 32)      320       \n",
      "                                                                 \n",
      " max_pooling2d (MaxPooling2D  (None, 63, 63, 32)       0         \n",
      " )                                                               \n",
      "                                                                 \n",
      " dropout (Dropout)           (None, 63, 63, 32)        0         \n",
      "                                                                 \n",
      " conv2d_1 (Conv2D)           (None, 61, 61, 64)        18496     \n",
      "                                                                 \n",
      " max_pooling2d_1 (MaxPooling  (None, 30, 30, 64)       0         \n",
      " 2D)                                                             \n",
      "                                                                 \n",
      " dropout_1 (Dropout)         (None, 30, 30, 64)        0         \n",
      "                                                                 \n",
      " conv2d_2 (Conv2D)           (None, 28, 28, 64)        36928     \n",
      "                                                                 \n",
      " max_pooling2d_2 (MaxPooling  (None, 14, 14, 64)       0         \n",
      " 2D)                                                             \n",
      "                                                                 \n",
      " dropout_2 (Dropout)         (None, 14, 14, 64)        0         \n",
      "                                                                 \n",
      " conv2d_3 (Conv2D)           (None, 12, 12, 64)        36928     \n",
      "                                                                 \n",
      " max_pooling2d_3 (MaxPooling  (None, 6, 6, 64)         0         \n",
      " 2D)                                                             \n",
      "                                                                 \n",
      " dropout_3 (Dropout)         (None, 6, 6, 64)          0         \n",
      "                                                                 \n",
      " flatten (Flatten)           (None, 2304)              0         \n",
      "                                                                 \n",
      " dense (Dense)               (None, 64)                147520    \n",
      "                                                                 \n",
      " dropout_4 (Dropout)         (None, 64)                0         \n",
      "                                                                 \n",
      " dense_1 (Dense)             (None, 10)                650       \n",
      "                                                                 \n",
      "=================================================================\n",
      "Total params: 240,842\n",
      "Trainable params: 240,842\n",
      "Non-trainable params: 0\n",
      "_________________________________________________________________\n"
     ]
    }
   ],
   "source": [
    "model = models.Model(inputs = inputs, outputs=outputs)\n",
    "optimizer = optimizers.Adam(learning_rate = 0.001)\n",
    "model.compile(optimizer, loss=losses.CategoricalCrossentropy(), metrics=['accuracy'])\n",
    "model.summary()"
   ]
  },
  {
   "cell_type": "code",
   "execution_count": 17,
   "metadata": {},
   "outputs": [
    {
     "name": "stdout",
     "output_type": "stream",
     "text": [
      "Epoch 1/20\n",
      "300/300 [==============================] - 110s 365ms/step - loss: 2.0916 - accuracy: 0.2226 - val_loss: 1.8299 - val_accuracy: 0.3550\n",
      "Epoch 2/20\n",
      "300/300 [==============================] - 96s 321ms/step - loss: 1.7788 - accuracy: 0.3523 - val_loss: 1.5982 - val_accuracy: 0.4342\n",
      "Epoch 3/20\n",
      "300/300 [==============================] - 96s 320ms/step - loss: 1.5929 - accuracy: 0.4206 - val_loss: 1.3540 - val_accuracy: 0.5058\n",
      "Epoch 4/20\n",
      "300/300 [==============================] - 97s 322ms/step - loss: 1.4910 - accuracy: 0.4584 - val_loss: 1.2728 - val_accuracy: 0.5450\n",
      "Epoch 5/20\n",
      "300/300 [==============================] - 99s 328ms/step - loss: 1.3936 - accuracy: 0.5020 - val_loss: 1.2408 - val_accuracy: 0.5717\n",
      "Epoch 6/20\n",
      "300/300 [==============================] - 109s 363ms/step - loss: 1.3126 - accuracy: 0.5285 - val_loss: 1.1918 - val_accuracy: 0.5983\n",
      "Epoch 7/20\n",
      "300/300 [==============================] - 120s 401ms/step - loss: 1.2406 - accuracy: 0.5581 - val_loss: 1.0935 - val_accuracy: 0.6033\n",
      "Epoch 8/20\n",
      "300/300 [==============================] - 112s 373ms/step - loss: 1.1716 - accuracy: 0.5804 - val_loss: 1.0066 - val_accuracy: 0.6442\n",
      "Epoch 9/20\n",
      "300/300 [==============================] - 115s 384ms/step - loss: 1.1338 - accuracy: 0.6036 - val_loss: 0.9685 - val_accuracy: 0.6533\n",
      "Epoch 10/20\n",
      "300/300 [==============================] - 113s 378ms/step - loss: 1.1027 - accuracy: 0.6047 - val_loss: 0.9738 - val_accuracy: 0.6567\n",
      "Epoch 11/20\n",
      "300/300 [==============================] - 113s 378ms/step - loss: 1.0502 - accuracy: 0.6275 - val_loss: 0.8730 - val_accuracy: 0.6992\n",
      "Epoch 12/20\n",
      "300/300 [==============================] - 114s 380ms/step - loss: 1.0129 - accuracy: 0.6369 - val_loss: 0.8775 - val_accuracy: 0.6975\n",
      "Epoch 13/20\n",
      "300/300 [==============================] - 116s 388ms/step - loss: 0.9812 - accuracy: 0.6510 - val_loss: 0.8374 - val_accuracy: 0.7025\n",
      "Epoch 14/20\n",
      "300/300 [==============================] - 115s 384ms/step - loss: 0.9449 - accuracy: 0.6548 - val_loss: 0.7742 - val_accuracy: 0.7258\n",
      "Epoch 15/20\n",
      "300/300 [==============================] - 116s 385ms/step - loss: 0.9062 - accuracy: 0.6681 - val_loss: 0.7852 - val_accuracy: 0.7292\n",
      "Epoch 16/20\n",
      "300/300 [==============================] - 116s 385ms/step - loss: 0.8850 - accuracy: 0.6789 - val_loss: 0.7300 - val_accuracy: 0.7525\n",
      "Epoch 17/20\n",
      "300/300 [==============================] - 114s 379ms/step - loss: 0.8696 - accuracy: 0.6845 - val_loss: 0.7721 - val_accuracy: 0.7350\n",
      "Epoch 18/20\n",
      "300/300 [==============================] - 100s 334ms/step - loss: 0.8346 - accuracy: 0.6983 - val_loss: 0.6692 - val_accuracy: 0.7675\n",
      "Epoch 19/20\n",
      "300/300 [==============================] - 96s 320ms/step - loss: 0.7798 - accuracy: 0.7130 - val_loss: 0.6395 - val_accuracy: 0.7767\n",
      "Epoch 20/20\n",
      "300/300 [==============================] - 95s 317ms/step - loss: 0.7759 - accuracy: 0.7208 - val_loss: 0.7071 - val_accuracy: 0.7625\n"
     ]
    }
   ],
   "source": [
    "epochs = 20\n",
    "\n",
    "history = model.fit(x=x_train, \n",
    "                    y=y_train,\n",
    "                    validation_data=(x_val, y_val),\n",
    "                    epochs=epochs,\n",
    "                    shuffle=True)"
   ]
  },
  {
   "cell_type": "code",
   "execution_count": 18,
   "metadata": {},
   "outputs": [
    {
     "name": "stdout",
     "output_type": "stream",
     "text": [
      "38/38 [==============================] - 4s 97ms/step - loss: 0.6441 - accuracy: 0.7825\n"
     ]
    },
    {
     "data": {
      "text/plain": [
       "[0.6441159248352051, 0.7825000286102295]"
      ]
     },
     "execution_count": 18,
     "metadata": {},
     "output_type": "execute_result"
    }
   ],
   "source": [
    "model.evaluate(x=x_test, y=y_test)"
   ]
  },
  {
   "cell_type": "code",
   "execution_count": 22,
   "metadata": {},
   "outputs": [
    {
     "data": {
      "image/png": "[encoded data removed]",
      "text/plain": [
       "<Figure size 500x400 with 1 Axes>"
      ]
     },
     "metadata": {},
     "output_type": "display_data"
    }
   ],
   "source": [
    "epochs = 20\n",
    "hist_acc = history.history['accuracy'] \n",
    "hist_val_acc = history.history['val_accuracy'] \n",
    "\n",
    "fig, ax = plt.subplots(figsize=(5,4))\n",
    "ax.plot(range(epochs), hist_acc, label='accuracy', lw=1.25)\n",
    "ax.plot(range(epochs), hist_val_acc, label='val accuracy', lw=1.25)\n",
    "ax.set_xlabel('Epochs')\n",
    "ax.set_ylabel('Accuracy')\n",
    "ax.set_xticks([i for i in range(0, epochs+1,4)])\n",
    "ax.legend()\n",
    "plt.savefig(\"./cnn64_acc_epochs.png\", dpi=150)\n",
    "\n",
    "plt.show()"
   ]
  },
  {
   "cell_type": "code",
   "execution_count": 23,
   "metadata": {},
   "outputs": [
    {
     "data": {
      "image/png": "[encoded data removed]",
      "text/plain": [
       "<Figure size 500x400 with 1 Axes>"
      ]
     },
     "metadata": {},
     "output_type": "display_data"
    }
   ],
   "source": [
    "epochs = 20\n",
    "loss = history.history['loss'] \n",
    "val_loss = history.history['val_loss'] \n",
    "\n",
    "fig, ax = plt.subplots(figsize=(5,4))\n",
    "ax.plot(range(epochs), loss, label='Loss', lw=1.25)\n",
    "ax.plot(range(epochs), val_loss, label='val Loss', lw=1.25)\n",
    "ax.set_xlabel('Epochs')\n",
    "ax.set_ylabel('Loss')\n",
    "ax.set_xticks([i for i in range(0, epochs+1,4)])\n",
    "ax.legend()\n",
    "plt.savefig(\"./cnn64_loss_epochs.png\", dpi=150)\n",
    "\n",
    "plt.show()"
   ]
  }
 ],
 "metadata": {
  "kernelspec": {
   "display_name": "Python 3.10.8 ('venv': venv)",
   "language": "python",
   "name": "python3"
  },
  "language_info": {
   "codemirror_mode": {
    "name": "ipython",
    "version": 3
   },
   "file_extension": ".py",
   "mimetype": "text/x-python",
   "name": "python",
   "nbconvert_exporter": "python",
   "pygments_lexer": "ipython3",
   "version": "3.10.8"
  },
  "orig_nbformat": 4,
  "vscode": {
   "interpreter": {
    "hash": "5d9b387c0d1841df99e59be80f601d0d665fbff861407db37cec5394f1e10dde"
   }
  }
 },
 "nbformat": 4,
 "nbformat_minor": 2
}
